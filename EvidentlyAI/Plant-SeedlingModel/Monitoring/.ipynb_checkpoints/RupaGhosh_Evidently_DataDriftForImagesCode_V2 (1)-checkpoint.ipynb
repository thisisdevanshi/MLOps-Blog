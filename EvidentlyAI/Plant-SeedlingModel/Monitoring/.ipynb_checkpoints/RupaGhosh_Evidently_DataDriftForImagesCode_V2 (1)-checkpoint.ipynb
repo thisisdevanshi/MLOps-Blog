{
 "cells": [
  {
   "cell_type": "markdown",
   "metadata": {
    "id": "GCqa39y6cKHG"
   },
   "source": [
    "**Author:** Rupa Ghosh <br />\n",
    "**About this File:** This code processes images from two different data folders, prepares the data into arrays and then processes Evidently data drift modes to check if there is data drift. <br />\n",
    "**Overview of the File:** <br />\n",
    "1. Create data sets in two different folders.\n",
    "2. Load images from the folders, process them and create dataframes.\n",
    "3. Load Evidently DataDrift components.\n",
    "4. Run the DataDrift process and create dashboards.\n",
    "5. Performed these steps for two sets of pictures\n",
    "    Sugar Beet with Sugar Beet showed almost no shift detection\n",
    "    Sugar Beet with Shepherds Purse pictures showed shift in almost all the features of the images.\n",
    "    \n",
    "\n",
    "\n"
   ]
  },
  {
   "cell_type": "markdown",
   "metadata": {
    "id": "k7kUIIBypS48"
   },
   "source": [
    "## Map Google drive and Import Modules"
   ]
  },
  {
   "cell_type": "code",
   "execution_count": 1,
   "metadata": {
    "colab": {
     "base_uri": "https://localhost:8080/"
    },
    "id": "xHFisTa66icd",
    "outputId": "b502ff41-27d5-4794-f410-2e2f0198b6fa"
   },
   "outputs": [
    {
     "name": "stdout",
     "output_type": "stream",
     "text": [
      "Mounted at /content/drive\n"
     ]
    }
   ],
   "source": [
    "from google.colab import drive\n",
    "drive.mount('/content/drive', force_remount=True)\n",
    "\n"
   ]
  },
  {
   "cell_type": "code",
   "execution_count": 2,
   "metadata": {
    "id": "k_paOCNd6Rif"
   },
   "outputs": [],
   "source": [
    "%matplotlib inline\n",
    "import json\n",
    "import os\n",
    "import matplotlib\n",
    "import matplotlib.pyplot as plt\n",
    "from matplotlib.offsetbox import OffsetImage, AnnotationBbox\n",
    "import cv2\n",
    "import numpy as np\n",
    "from glob import glob\n",
    "import matplotlib.cm as cm\n",
    "from sklearn.decomposition import PCA\n",
    "from sklearn.manifold import TSNE\n",
    "from sklearn.preprocessing import StandardScaler\n",
    "import pickle\n",
    "import numpy as np\n",
    "import pandas as pd\n",
    "import os\n",
    "import tensorflow as tf\n",
    "import matplotlib.pyplot as plt\n",
    "import sklearn\n",
    "from random import randrange\n",
    "import cv2"
   ]
  },
  {
   "cell_type": "code",
   "execution_count": 3,
   "metadata": {
    "colab": {
     "base_uri": "https://localhost:8080/"
    },
    "id": "jM9aIffCoV5K",
    "outputId": "a809f3a0-57cf-4b9b-aa34-f49ea9ea4a0c"
   },
   "outputs": [
    {
     "name": "stdout",
     "output_type": "stream",
     "text": [
      "Collecting evidently\n",
      "  Downloading evidently-0.1.25.dev0-py3-none-any.whl (13.3 MB)\n",
      "\u001b[K     |████████████████████████████████| 13.3 MB 226 kB/s \n",
      "\u001b[?25hCollecting dataclasses\n",
      "  Downloading dataclasses-0.6-py3-none-any.whl (14 kB)\n",
      "Requirement already satisfied: pyyaml in /usr/local/lib/python3.7/dist-packages (from evidently) (3.13)\n",
      "Requirement already satisfied: scipy<=1.6.3 in /usr/local/lib/python3.7/dist-packages (from evidently) (1.4.1)\n",
      "Requirement already satisfied: scikit-learn>=0.22.1 in /usr/local/lib/python3.7/dist-packages (from evidently) (0.22.2.post1)\n",
      "Requirement already satisfied: statsmodels in /usr/local/lib/python3.7/dist-packages (from evidently) (0.10.2)\n",
      "Requirement already satisfied: numpy in /usr/local/lib/python3.7/dist-packages (from evidently) (1.19.5)\n",
      "Requirement already satisfied: requests in /usr/local/lib/python3.7/dist-packages (from evidently) (2.23.0)\n",
      "Requirement already satisfied: pandas in /usr/local/lib/python3.7/dist-packages (from evidently) (1.1.5)\n",
      "Requirement already satisfied: plotly in /usr/local/lib/python3.7/dist-packages (from evidently) (4.4.1)\n",
      "Requirement already satisfied: joblib>=0.11 in /usr/local/lib/python3.7/dist-packages (from scikit-learn>=0.22.1->evidently) (1.0.1)\n",
      "Requirement already satisfied: pytz>=2017.2 in /usr/local/lib/python3.7/dist-packages (from pandas->evidently) (2018.9)\n",
      "Requirement already satisfied: python-dateutil>=2.7.3 in /usr/local/lib/python3.7/dist-packages (from pandas->evidently) (2.8.2)\n",
      "Requirement already satisfied: six>=1.5 in /usr/local/lib/python3.7/dist-packages (from python-dateutil>=2.7.3->pandas->evidently) (1.15.0)\n",
      "Requirement already satisfied: retrying>=1.3.3 in /usr/local/lib/python3.7/dist-packages (from plotly->evidently) (1.3.3)\n",
      "Requirement already satisfied: certifi>=2017.4.17 in /usr/local/lib/python3.7/dist-packages (from requests->evidently) (2021.5.30)\n",
      "Requirement already satisfied: idna<3,>=2.5 in /usr/local/lib/python3.7/dist-packages (from requests->evidently) (2.10)\n",
      "Requirement already satisfied: chardet<4,>=3.0.2 in /usr/local/lib/python3.7/dist-packages (from requests->evidently) (3.0.4)\n",
      "Requirement already satisfied: urllib3!=1.25.0,!=1.25.1,<1.26,>=1.21.1 in /usr/local/lib/python3.7/dist-packages (from requests->evidently) (1.24.3)\n",
      "Requirement already satisfied: patsy>=0.4.0 in /usr/local/lib/python3.7/dist-packages (from statsmodels->evidently) (0.5.1)\n",
      "Installing collected packages: dataclasses, evidently\n",
      "Successfully installed dataclasses-0.6 evidently-0.1.25.dev0\n"
     ]
    }
   ],
   "source": [
    "! pip install evidently"
   ]
  },
  {
   "cell_type": "code",
   "execution_count": 4,
   "metadata": {
    "id": "XRPteez6ojIH"
   },
   "outputs": [],
   "source": [
    "import pandas as pd\n",
    "from sklearn import datasets\n",
    "\n",
    "from evidently.dashboard import Dashboard\n",
    "from evidently.tabs import DataDriftTab\n",
    "from evidently.model_profile import Profile\n",
    "from evidently.profile_sections import DataDriftProfileSection\n"
   ]
  },
  {
   "cell_type": "code",
   "execution_count": 8,
   "metadata": {
    "colab": {
     "base_uri": "https://localhost:8080/"
    },
    "id": "tMtq_s17JuXY",
    "outputId": "2ef5a1cb-4b6b-4660-95cc-ece6d983a08f"
   },
   "outputs": [
    {
     "name": "stdout",
     "output_type": "stream",
     "text": [
      "Requirement already satisfied: mlflow in /usr/local/lib/python3.7/dist-packages (1.20.2)\n",
      "Requirement already satisfied: cloudpickle in /usr/local/lib/python3.7/dist-packages (from mlflow) (1.3.0)\n",
      "Requirement already satisfied: importlib-metadata!=4.7.0,>=3.7.0 in /usr/local/lib/python3.7/dist-packages (from mlflow) (4.8.1)\n",
      "Requirement already satisfied: entrypoints in /usr/local/lib/python3.7/dist-packages (from mlflow) (0.3)\n",
      "Requirement already satisfied: alembic<=1.4.1 in /usr/local/lib/python3.7/dist-packages (from mlflow) (1.4.1)\n",
      "Requirement already satisfied: pandas in /usr/local/lib/python3.7/dist-packages (from mlflow) (1.1.5)\n",
      "Requirement already satisfied: gunicorn in /usr/local/lib/python3.7/dist-packages (from mlflow) (20.1.0)\n",
      "Requirement already satisfied: prometheus-flask-exporter in /usr/local/lib/python3.7/dist-packages (from mlflow) (0.18.3)\n",
      "Requirement already satisfied: pytz in /usr/local/lib/python3.7/dist-packages (from mlflow) (2018.9)\n",
      "Requirement already satisfied: sqlalchemy in /usr/local/lib/python3.7/dist-packages (from mlflow) (1.4.25)\n",
      "Requirement already satisfied: pyyaml>=5.1 in /usr/local/lib/python3.7/dist-packages (from mlflow) (5.4.1)\n",
      "Requirement already satisfied: gitpython>=2.1.0 in /usr/local/lib/python3.7/dist-packages (from mlflow) (3.1.24)\n",
      "Requirement already satisfied: sqlparse>=0.3.1 in /usr/local/lib/python3.7/dist-packages (from mlflow) (0.4.2)\n",
      "Requirement already satisfied: databricks-cli>=0.8.7 in /usr/local/lib/python3.7/dist-packages (from mlflow) (0.15.0)\n",
      "Requirement already satisfied: querystring-parser in /usr/local/lib/python3.7/dist-packages (from mlflow) (1.2.4)\n",
      "Requirement already satisfied: requests>=2.17.3 in /usr/local/lib/python3.7/dist-packages (from mlflow) (2.23.0)\n",
      "Requirement already satisfied: click>=7.0 in /usr/local/lib/python3.7/dist-packages (from mlflow) (7.1.2)\n",
      "Requirement already satisfied: Flask in /usr/local/lib/python3.7/dist-packages (from mlflow) (1.1.4)\n",
      "Requirement already satisfied: docker>=4.0.0 in /usr/local/lib/python3.7/dist-packages (from mlflow) (5.0.2)\n",
      "Requirement already satisfied: protobuf>=3.7.0 in /usr/local/lib/python3.7/dist-packages (from mlflow) (3.17.3)\n",
      "Requirement already satisfied: packaging in /usr/local/lib/python3.7/dist-packages (from mlflow) (21.0)\n",
      "Requirement already satisfied: numpy in /usr/local/lib/python3.7/dist-packages (from mlflow) (1.19.5)\n",
      "Requirement already satisfied: Mako in /usr/local/lib/python3.7/dist-packages (from alembic<=1.4.1->mlflow) (1.1.5)\n",
      "Requirement already satisfied: python-dateutil in /usr/local/lib/python3.7/dist-packages (from alembic<=1.4.1->mlflow) (2.8.2)\n",
      "Requirement already satisfied: python-editor>=0.3 in /usr/local/lib/python3.7/dist-packages (from alembic<=1.4.1->mlflow) (1.0.4)\n",
      "Requirement already satisfied: six>=1.10.0 in /usr/local/lib/python3.7/dist-packages (from databricks-cli>=0.8.7->mlflow) (1.15.0)\n",
      "Requirement already satisfied: tabulate>=0.7.7 in /usr/local/lib/python3.7/dist-packages (from databricks-cli>=0.8.7->mlflow) (0.8.9)\n",
      "Requirement already satisfied: websocket-client>=0.32.0 in /usr/local/lib/python3.7/dist-packages (from docker>=4.0.0->mlflow) (1.2.1)\n",
      "Requirement already satisfied: typing-extensions>=3.7.4.3 in /usr/local/lib/python3.7/dist-packages (from gitpython>=2.1.0->mlflow) (3.7.4.3)\n",
      "Requirement already satisfied: gitdb<5,>=4.0.1 in /usr/local/lib/python3.7/dist-packages (from gitpython>=2.1.0->mlflow) (4.0.7)\n",
      "Requirement already satisfied: smmap<5,>=3.0.1 in /usr/local/lib/python3.7/dist-packages (from gitdb<5,>=4.0.1->gitpython>=2.1.0->mlflow) (4.0.0)\n",
      "Requirement already satisfied: zipp>=0.5 in /usr/local/lib/python3.7/dist-packages (from importlib-metadata!=4.7.0,>=3.7.0->mlflow) (3.5.0)\n",
      "Requirement already satisfied: certifi>=2017.4.17 in /usr/local/lib/python3.7/dist-packages (from requests>=2.17.3->mlflow) (2021.5.30)\n",
      "Requirement already satisfied: idna<3,>=2.5 in /usr/local/lib/python3.7/dist-packages (from requests>=2.17.3->mlflow) (2.10)\n",
      "Requirement already satisfied: urllib3!=1.25.0,!=1.25.1,<1.26,>=1.21.1 in /usr/local/lib/python3.7/dist-packages (from requests>=2.17.3->mlflow) (1.24.3)\n",
      "Requirement already satisfied: chardet<4,>=3.0.2 in /usr/local/lib/python3.7/dist-packages (from requests>=2.17.3->mlflow) (3.0.4)\n",
      "Requirement already satisfied: greenlet!=0.4.17 in /usr/local/lib/python3.7/dist-packages (from sqlalchemy->mlflow) (1.1.1)\n",
      "Requirement already satisfied: Werkzeug<2.0,>=0.15 in /usr/local/lib/python3.7/dist-packages (from Flask->mlflow) (1.0.1)\n",
      "Requirement already satisfied: itsdangerous<2.0,>=0.24 in /usr/local/lib/python3.7/dist-packages (from Flask->mlflow) (1.1.0)\n",
      "Requirement already satisfied: Jinja2<3.0,>=2.10.1 in /usr/local/lib/python3.7/dist-packages (from Flask->mlflow) (2.11.3)\n",
      "Requirement already satisfied: MarkupSafe>=0.23 in /usr/local/lib/python3.7/dist-packages (from Jinja2<3.0,>=2.10.1->Flask->mlflow) (2.0.1)\n",
      "Requirement already satisfied: setuptools>=3.0 in /usr/local/lib/python3.7/dist-packages (from gunicorn->mlflow) (57.4.0)\n",
      "Requirement already satisfied: pyparsing>=2.0.2 in /usr/local/lib/python3.7/dist-packages (from packaging->mlflow) (2.4.7)\n",
      "Requirement already satisfied: prometheus-client in /usr/local/lib/python3.7/dist-packages (from prometheus-flask-exporter->mlflow) (0.11.0)\n"
     ]
    }
   ],
   "source": [
    "!pip install mlflow"
   ]
  },
  {
   "cell_type": "code",
   "execution_count": 9,
   "metadata": {
    "id": "eMeDZKsUJsRG"
   },
   "outputs": [],
   "source": [
    "import mlflow\n",
    "import mlflow.sklearn\n",
    "from mlflow.tracking import MlflowClient"
   ]
  },
  {
   "cell_type": "code",
   "execution_count": 10,
   "metadata": {
    "id": "pG2HpTq5J5U5"
   },
   "outputs": [],
   "source": [
    "import plotly.offline as py #working offline\n",
    "import plotly.graph_objs as go"
   ]
  },
  {
   "cell_type": "markdown",
   "metadata": {
    "id": "dbkHsXGmVECL"
   },
   "source": [
    "## Load Images Data.\n",
    "#### Lets prepare the the classification images for evidently"
   ]
  },
  {
   "cell_type": "code",
   "execution_count": 11,
   "metadata": {
    "colab": {
     "base_uri": "https://localhost:8080/"
    },
    "id": "El5sYDvgVU2Q",
    "outputId": "75832975-8115-4f7d-b0bf-5fb02ffb98db"
   },
   "outputs": [
    {
     "name": "stdout",
     "output_type": "stream",
     "text": [
      "2.6.0\n"
     ]
    }
   ],
   "source": [
    "import matplotlib.pyplot as plt\n",
    "import numpy as np\n",
    "import os as os\n",
    "import PIL\n",
    "import tensorflow as tf\n",
    "import pathlib\n",
    "\n",
    "from tensorflow import keras\n",
    "from tensorflow.keras import layers\n",
    "from tensorflow.keras.models import Sequential\n",
    "import pandas as pd\n",
    "import matplotlib.pyplot as plt\n",
    "\n",
    "import cv2\n",
    "\n",
    "print(tf.__version__)"
   ]
  },
  {
   "cell_type": "code",
   "execution_count": 12,
   "metadata": {
    "id": "vIDViydmkJ1t"
   },
   "outputs": [],
   "source": [
    "## We will load two sets of images from the two paths below\n",
    "## data 2 will correspond to the new data and data 1 will refer to original data that the model was trained on\n",
    "data_shepherdsPurse='/content/drive/My Drive/ModelMonitoringBlog/Rupas_Final_Files/Data/Data 2'  ## This contains Shepherds Purse pictures\n",
    "data_sugarbeet1='/content/drive/My Drive/ModelMonitoringBlog/Rupas_Final_Files/Data/Data1'  ## This contains Sugar Beet\n",
    "data_sugarbeet2='/content/drive/My Drive/ModelMonitoringBlog/Rupas_Final_Files/Data/Data1b'  ## This contains Sugar Beet"
   ]
  },
  {
   "cell_type": "code",
   "execution_count": 13,
   "metadata": {
    "id": "HnF6VG5ZyDmN"
   },
   "outputs": [],
   "source": [
    "## Initialize the image arrays that we will use subsequently\n",
    "image_array_sugarbeet1=[]\n",
    "image_array_shepherdsPurse=[]\n",
    "image_array_sugarbeet2=[]"
   ]
  },
  {
   "cell_type": "code",
   "execution_count": 14,
   "metadata": {
    "id": "v9pz8PauGzM8"
   },
   "outputs": [],
   "source": [
    "from PIL import Image, ImageOps"
   ]
  },
  {
   "cell_type": "code",
   "execution_count": 15,
   "metadata": {
    "id": "6yS-Z_txk1i4"
   },
   "outputs": [],
   "source": [
    "for file in os.listdir(data_sugarbeet1):\n",
    "    path = data_sugarbeet1+'/' +file\n",
    "    #print(path)\n",
    "    temp_image = PIL.Image.open(path)\n",
    "    temp_image2 = PIL.Image.open(path)\n",
    "    temp_image = temp_image.resize((50, 50), Image.ANTIALIAS)\n",
    "    temp_image=ImageOps.grayscale(temp_image)    # Convert to grayscale\n",
    "    A = np.array(temp_image)            \n",
    "    temp_image.show()\n",
    "    A=A.flatten()\n",
    "    #print('this is flattenned')\n",
    "    #print(A)\n",
    "    image_array_sugarbeet1.append(A)"
   ]
  },
  {
   "cell_type": "code",
   "execution_count": 16,
   "metadata": {
    "colab": {
     "base_uri": "https://localhost:8080/"
    },
    "id": "FMVTVH3YTR5J",
    "outputId": "756c9472-dd4e-4ca5-d6bc-ea42703a3014"
   },
   "outputs": [
    {
     "name": "stdout",
     "output_type": "stream",
     "text": [
      "[154 154 154 ... 101  79  79]\n"
     ]
    }
   ],
   "source": [
    "print (image_array_sugarbeet1[0])"
   ]
  },
  {
   "cell_type": "code",
   "execution_count": 17,
   "metadata": {
    "id": "wPIgBm8j9j-E"
   },
   "outputs": [],
   "source": [
    "import matplotlib.pyplot as plt\n"
   ]
  },
  {
   "cell_type": "code",
   "execution_count": 18,
   "metadata": {
    "colab": {
     "base_uri": "https://localhost:8080/",
     "height": 283
    },
    "id": "dzZlj0bE9m97",
    "outputId": "f11e5ccf-8af6-4573-f701-a3fea9e0080d"
   },
   "outputs": [
    {
     "data": {
      "text/plain": [
       "<matplotlib.image.AxesImage at 0x7f21d214ac90>"
      ]
     },
     "execution_count": 18,
     "metadata": {},
     "output_type": "execute_result"
    },
    {
     "data": {
      "image/png": "[encoded data removed]",
      "text/plain": [
       "<Figure size 432x288 with 1 Axes>"
      ]
     },
     "metadata": {
      "needs_background": "light"
     },
     "output_type": "display_data"
    }
   ],
   "source": [
    "plt.imshow(temp_image)\n"
   ]
  },
  {
   "cell_type": "code",
   "execution_count": 19,
   "metadata": {
    "colab": {
     "base_uri": "https://localhost:8080/",
     "height": 286
    },
    "id": "BMIw1nIW-I41",
    "outputId": "0884307f-18e4-437b-9a1c-9fe751828efe"
   },
   "outputs": [
    {
     "data": {
      "text/plain": [
       "<matplotlib.image.AxesImage at 0x7f21d1ca8f10>"
      ]
     },
     "execution_count": 19,
     "metadata": {},
     "output_type": "execute_result"
    },
    {
     "data": {
      "image/png": "[encoded data removed]",
      "text/plain": [
       "<Figure size 432x288 with 1 Axes>"
      ]
     },
     "metadata": {
      "needs_background": "light"
     },
     "output_type": "display_data"
    }
   ],
   "source": [
    "plt.imshow(temp_image2)  ## this is a sample of the original sugarbeet seedling"
   ]
  },
  {
   "cell_type": "code",
   "execution_count": 20,
   "metadata": {
    "id": "j7ZhLxsT2yYY"
   },
   "outputs": [],
   "source": [
    "image_array_Sugarbeet_2=[]  ## We will read in the second set of Sugar beet pictures\n",
    "\n",
    "for file in os.listdir(data_sugarbeet2):\n",
    "    path = data_sugarbeet2+'/' +file\n",
    "    #print(path)\n",
    "    temp_image = PIL.Image.open(path)\n",
    "    temp_image = temp_image.resize((50, 50), Image.ANTIALIAS)\n",
    "    temp_image=ImageOps.grayscale(temp_image)    # Convert to grayscale\n",
    "    A = np.array(temp_image)            \n",
    "    #temp_image.show()\n",
    "    A=A.flatten()\n",
    "    image_array_Sugarbeet_2.append(A)"
   ]
  },
  {
   "cell_type": "code",
   "execution_count": 22,
   "metadata": {
    "id": "WSCwOVkwe1iz"
   },
   "outputs": [],
   "source": [
    "image_array_shepherdsPurse=[]  ## We will read in shepherds Purse\n",
    "\n",
    "for file in os.listdir(data_shepherdsPurse):\n",
    "    path = data_shepherdsPurse+'/' +file\n",
    "    #print(path)\n",
    "    temp_image = PIL.Image.open(path)\n",
    "    temp_image = temp_image.resize((50, 50), Image.ANTIALIAS)\n",
    "    temp_image=ImageOps.grayscale(temp_image)    # Convert to grayscale\n",
    "    A = np.array(temp_image)            \n",
    "    #temp_image.show()\n",
    "    A=A.flatten()\n",
    "    #print('this is flattenned')\n",
    "    #print(A)\n",
    "    image_array_shepherdsPurse.append(A)"
   ]
  },
  {
   "cell_type": "markdown",
   "metadata": {
    "id": "Ge2WXgeJrhUu"
   },
   "source": [
    "##  Creating Feature List\n",
    "### Lets create our column names for the pixels of the image"
   ]
  },
  {
   "cell_type": "code",
   "execution_count": 23,
   "metadata": {
    "id": "5UW3yCMB_sQF"
   },
   "outputs": [],
   "source": [
    "## Generating feature list.  Need to create fake feature names for each of the pixels of the picture \n",
    "## so we can identify the drifts\n",
    "feature_list=[]\n",
    "for i in range(1,2501):\n",
    "  feature_list.append('f'+str(i))\n"
   ]
  },
  {
   "cell_type": "code",
   "execution_count": 24,
   "metadata": {
    "colab": {
     "base_uri": "https://localhost:8080/"
    },
    "id": "RtO1wI3yACCX",
    "outputId": "5c7da2c3-4016-4fc1-ba43-08c871427183"
   },
   "outputs": [
    {
     "data": {
      "text/plain": [
       "['f2', 'f3', 'f4', 'f5']"
      ]
     },
     "execution_count": 24,
     "metadata": {},
     "output_type": "execute_result"
    }
   ],
   "source": [
    "feature_list[1:5]"
   ]
  },
  {
   "cell_type": "code",
   "execution_count": 25,
   "metadata": {
    "id": "61Lw3hAQp0H_"
   },
   "outputs": [],
   "source": [
    "dataframe_1 = pd.DataFrame(image_array_sugarbeet1, columns=feature_list)"
   ]
  },
  {
   "cell_type": "code",
   "execution_count": 26,
   "metadata": {
    "id": "HFJujuDIffOo"
   },
   "outputs": [],
   "source": [
    "dataframe_1a = pd.DataFrame(image_array_Sugarbeet_2, columns=feature_list)"
   ]
  },
  {
   "cell_type": "code",
   "execution_count": 27,
   "metadata": {
    "id": "oBB9b7fU26u0"
   },
   "outputs": [],
   "source": [
    "dataframe_2 = pd.DataFrame(image_array_shepherdsPurse, columns=feature_list)"
   ]
  },
  {
   "cell_type": "code",
   "execution_count": 28,
   "metadata": {
    "id": "xtWhXmW9RAHU"
   },
   "outputs": [],
   "source": [
    "column_list = dataframe_1.columns"
   ]
  },
  {
   "cell_type": "code",
   "execution_count": 29,
   "metadata": {
    "colab": {
     "base_uri": "https://localhost:8080/"
    },
    "id": "5aTMQsydIh2n",
    "outputId": "e0a6be3b-8833-4a10-9530-35e61548483b"
   },
   "outputs": [
    {
     "data": {
      "text/plain": [
       "(60, 2500)"
      ]
     },
     "execution_count": 29,
     "metadata": {},
     "output_type": "execute_result"
    }
   ],
   "source": [
    "dataframe_1.shape\n"
   ]
  },
  {
   "cell_type": "code",
   "execution_count": 30,
   "metadata": {
    "colab": {
     "base_uri": "https://localhost:8080/"
    },
    "id": "Pp3FB8C9fuky",
    "outputId": "da54ee17-99c0-46c6-df6a-62d85f02d0b5"
   },
   "outputs": [
    {
     "data": {
      "text/plain": [
       "(154, 2500)"
      ]
     },
     "execution_count": 30,
     "metadata": {},
     "output_type": "execute_result"
    }
   ],
   "source": [
    "dataframe_2.shape"
   ]
  },
  {
   "cell_type": "code",
   "execution_count": 31,
   "metadata": {
    "colab": {
     "base_uri": "https://localhost:8080/"
    },
    "id": "HgRCDYwXRyAb",
    "outputId": "03a221b8-8389-4487-e965-0eb93465f267"
   },
   "outputs": [
    {
     "data": {
      "text/plain": [
       "(144, 2500)"
      ]
     },
     "execution_count": 31,
     "metadata": {},
     "output_type": "execute_result"
    }
   ],
   "source": [
    "dataframe_1a.shape"
   ]
  },
  {
   "cell_type": "markdown",
   "metadata": {
    "id": "qfNj2Fs-pJNu"
   },
   "source": [
    "### Evidently Profile\n",
    "After installing the tool, import Evidently profile and required sections:"
   ]
  },
  {
   "cell_type": "code",
   "execution_count": 32,
   "metadata": {
    "id": "C2U5vzZRo0FO"
   },
   "outputs": [],
   "source": [
    "from evidently.dashboard import Dashboard\n",
    "from evidently.tabs import DataDriftTab, NumTargetDriftTab\n",
    "\n",
    "from evidently.model_profile import Profile\n",
    "from evidently.profile_sections import DataDriftProfileSection, NumTargetDriftProfileSection"
   ]
  },
  {
   "cell_type": "markdown",
   "metadata": {
    "id": "Wmw0L66ALdCI"
   },
   "source": [
    "### Functions to clculate drift with Evidently"
   ]
  },
  {
   "cell_type": "code",
   "execution_count": 34,
   "metadata": {
    "id": "GkLH9XckLZa5"
   },
   "outputs": [],
   "source": [
    "## this section is taken from Evidently's Github\n",
    "#evaluate data drift with Evidently Profile\n",
    "def detect_dataset_drift(reference, production, column_mapping, confidence=0.95, threshold=0.5, get_ratio=False):\n",
    "    \"\"\"\n",
    "    Returns True if Data Drift is detected, else returns False.\n",
    "    If get_ratio is True, returns ration of drifted features.\n",
    "    The Data Drift detection depends on the confidence level and the threshold.\n",
    "    For each individual feature Data Drift is detected with the selected confidence (default value is 0.95).\n",
    "    Data Drift for the dataset is detected if share of the drifted features is above the selected threshold (default value is 0.5).\n",
    "    \"\"\"\n",
    "    \n",
    "    data_drift_profile = Profile(sections=[DataDriftProfileSection])\n",
    "    data_drift_profile.calculate(reference, production, column_mapping=column_mapping)\n",
    "    report = data_drift_profile.json()\n",
    "    json_report = json.loads(report)\n",
    "\n",
    "    drifts = []\n",
    "    num_features = column_mapping\n",
    "    cat_features = column_mapping.get('categorical_features') if column_mapping.get('categorical_features') else []\n",
    "    for feature in num_features :\n",
    "        drifts.append(json_report['data_drift']['data']['metrics'][feature]['p_value']) \n",
    "        \n",
    "    n_features = len(drifts)\n",
    "    n_drifted_features = sum([1 if x<(1. - confidence) else 0 for x in drifts])\n",
    "    \n",
    "    if get_ratio:\n",
    "        return n_drifted_features/n_features\n",
    "    else:\n",
    "        return True if n_drifted_features/n_features >= threshold else False"
   ]
  },
  {
   "cell_type": "code",
   "execution_count": 35,
   "metadata": {
    "id": "OWSMeMkGLzOL"
   },
   "outputs": [],
   "source": [
    "## This section is taken from Evidently's Github location\n",
    "#evaluate data drift with Evidently Profile\n",
    "def detect_features_drift(reference, production, column_mapping, confidence=0.95, threshold=0.5, get_pvalues=False):\n",
    "    \"\"\"\n",
    "    Returns 1 if Data Drift is detected, else returns 0. \n",
    "    If get_pvalues is True, returns p-value for each feature.\n",
    "    The Data Drift detection depends on the confidence level and the threshold.\n",
    "    For each individual feature Data Drift is detected with the selected confidence (default value is 0.95).\n",
    "    \"\"\"\n",
    "    \n",
    "    data_drift_profile = Profile(sections=[DataDriftProfileSection])\n",
    "    data_drift_profile.calculate(reference, production, column_mapping=column_mapping)\n",
    "    report = data_drift_profile.json()\n",
    "    json_report = json.loads(report)\n",
    "    \n",
    "    drifts = []\n",
    "    num_features = column_mapping.get('numerical_features') if column_mapping.get('numerical_features') else []\n",
    "    cat_features = column_mapping.get('categorical_features') if column_mapping.get('categorical_features') else []\n",
    "    for feature in num_features + cat_features:\n",
    "        p_value = json_report['data_drift']['data']['metrics'][feature]['p_value']\n",
    "        if get_pvalues:\n",
    "            drifts.append((feature, p_value))\n",
    "        else:\n",
    "            drifts.append((feature, True if p_value <(1. - confidence) else False))\n",
    "             \n",
    "    return drifts"
   ]
  },
  {
   "cell_type": "code",
   "execution_count": 36,
   "metadata": {
    "id": "mC8FAI4UL41x"
   },
   "outputs": [],
   "source": [
    "reference_sets = ('a','b')\n",
    "experiment_batches = []"
   ]
  },
  {
   "cell_type": "code",
   "execution_count": 37,
   "metadata": {
    "id": "q3TfHuObSZYa"
   },
   "outputs": [],
   "source": [
    "#set column mapping for Evidently Profile\n",
    "data_columns = {}\n",
    "data_columns['numerical_features'] = feature_list"
   ]
  },
  {
   "cell_type": "markdown",
   "metadata": {
    "id": "RO6p3k_PTNdZ"
   },
   "source": [
    "## Where is the drift?  Visually Detect Features drift"
   ]
  },
  {
   "cell_type": "code",
   "execution_count": 40,
   "metadata": {
    "id": "0eXme1ahUTlm"
   },
   "outputs": [],
   "source": [
    "features_historical_drift = []"
   ]
  },
  {
   "cell_type": "code",
   "execution_count": 41,
   "metadata": {
    "id": "QCZ8R0VRNlyS"
   },
   "outputs": [],
   "source": [
    "#for our experiments , the first comparison is between sugarbeet and sugarbeet, where we would expect minimal drifts\n",
    "drifts = detect_features_drift(dataframe_1, \n",
    "              dataframe_1a, \n",
    "              column_mapping=data_columns, \n",
    "              confidence=0.95,\n",
    "              threshold=0.9)\n",
    "\n",
    "features_historical_drift.append([x[1] for x in drifts])\n",
    "\n",
    "features_historical_drift_frame = pd.DataFrame(features_historical_drift, columns = data_columns['numerical_features'])"
   ]
  },
  {
   "cell_type": "code",
   "execution_count": 42,
   "metadata": {
    "colab": {
     "base_uri": "https://localhost:8080/"
    },
    "id": "AILTZkEdZGPP",
    "outputId": "ab60a539-bfb7-48a9-81a4-8ed461877c75"
   },
   "outputs": [
    {
     "data": {
      "text/plain": [
       "(1, 2500)"
      ]
     },
     "execution_count": 42,
     "metadata": {},
     "output_type": "execute_result"
    }
   ],
   "source": [
    "features_historical_drift_frame.shape"
   ]
  },
  {
   "cell_type": "code",
   "execution_count": 43,
   "metadata": {
    "id": "3KKq2MYQZcvX"
   },
   "outputs": [],
   "source": [
    "#features_historical_drift_frame.to_excel('drift1.xlsx')"
   ]
  },
  {
   "cell_type": "code",
   "execution_count": 44,
   "metadata": {
    "id": "NmCGUSNXV0kx"
   },
   "outputs": [],
   "source": [
    "features_historical_drift2 = []"
   ]
  },
  {
   "cell_type": "code",
   "execution_count": 45,
   "metadata": {
    "id": "f0Oh1aTFVBIz"
   },
   "outputs": [],
   "source": [
    "#Second experiment sugar beet with shepherds purse.  Here we expect to see drift in a lot more features\n",
    "drifts2 = detect_features_drift(dataframe_1, \n",
    "              dataframe_2, \n",
    "              column_mapping=data_columns, \n",
    "              confidence=0.95,\n",
    "              threshold=0.9)\n",
    "\n",
    "features_historical_drift2.append([x[1] for x in drifts2])\n",
    "\n",
    "features_historical_drift_frame2 = pd.DataFrame(features_historical_drift2, columns = data_columns['numerical_features'])"
   ]
  },
  {
   "cell_type": "code",
   "execution_count": null,
   "metadata": {
    "id": "KwOM9MLOa1Jx"
   },
   "outputs": [],
   "source": [
    "#features_historical_drift_frame2.to_excel('drift2.xlsx')"
   ]
  },
  {
   "cell_type": "code",
   "execution_count": 46,
   "metadata": {
    "id": "AYO5rmnFg6EU"
   },
   "outputs": [],
   "source": [
    "drift_filter_array1 = []\n",
    "drift_filter_array2 = []\n",
    "for i in range(0,2500):\n",
    "  drift_filter_array1.append(0)\n",
    "  drift_filter_array2.append(0)"
   ]
  },
  {
   "cell_type": "code",
   "execution_count": 66,
   "metadata": {
    "id": "wmOWfKKljoBp"
   },
   "outputs": [],
   "source": [
    "i=0\n",
    "for feature in feature_list:\n",
    "  #print(feature)\n",
    "  #print(features_historical_drift_frame2[feature][0])\n",
    "  if features_historical_drift_frame2[feature][0]==True:\n",
    "    drift_filter_array1[i]= 256\n",
    "  if features_historical_drift_frame[feature][0]==True:\n",
    "    drift_filter_array2[i]= 256\n",
    "  i=i+1\n",
    " #  print(feature) "
   ]
  },
  {
   "cell_type": "code",
   "execution_count": 67,
   "metadata": {
    "id": "eYgjKLDbr4F5"
   },
   "outputs": [],
   "source": [
    "#type(drift_filter_array)"
   ]
  },
  {
   "cell_type": "code",
   "execution_count": 68,
   "metadata": {
    "id": "YZGrRv9KsLC6"
   },
   "outputs": [],
   "source": [
    "## change this to a numpy array\n",
    "drift_filter_array1= np.array(drift_filter_array1)\n",
    "drift_filter_array2= np.array(drift_filter_array2)"
   ]
  },
  {
   "cell_type": "code",
   "execution_count": 69,
   "metadata": {
    "id": "2m9NXD-jsYj6"
   },
   "outputs": [],
   "source": [
    "#type(drift_filter_array)"
   ]
  },
  {
   "cell_type": "code",
   "execution_count": 70,
   "metadata": {
    "colab": {
     "base_uri": "https://localhost:8080/"
    },
    "id": "7xvVTmH2rAj_",
    "outputId": "d6c55722-fac2-4f77-a45e-409278eaa031"
   },
   "outputs": [
    {
     "data": {
      "text/plain": [
       "array([[256, 256, 256, ...,   0,   0, 256],\n",
       "       [256, 256,   0, ...,   0,   0,   0],\n",
       "       [  0,   0,   0, ..., 256,   0,   0],\n",
       "       ...,\n",
       "       [  0,   0,   0, ...,   0,   0,   0],\n",
       "       [  0,   0,   0, ...,   0,   0,   0],\n",
       "       [  0,   0,   0, ...,   0, 256,   0]])"
      ]
     },
     "execution_count": 70,
     "metadata": {},
     "output_type": "execute_result"
    }
   ],
   "source": [
    "np.reshape(drift_filter_array1,(50,50))"
   ]
  },
  {
   "cell_type": "code",
   "execution_count": 71,
   "metadata": {
    "colab": {
     "base_uri": "https://localhost:8080/",
     "height": 283
    },
    "id": "1z2PL6YLstgz",
    "outputId": "c4563c85-90be-4854-8c03-ea4402d3d0eb"
   },
   "outputs": [
    {
     "data": {
      "text/plain": [
       "<matplotlib.image.AxesImage at 0x7f21cef64c10>"
      ]
     },
     "execution_count": 71,
     "metadata": {},
     "output_type": "execute_result"
    },
    {
     "data": {
      "image/png": "[encoded data removed]",
      "text/plain": [
       "<Figure size 432x288 with 1 Axes>"
      ]
     },
     "metadata": {
      "needs_background": "light"
     },
     "output_type": "display_data"
    }
   ],
   "source": [
    "plt.imshow(np.reshape(drift_filter_array1,(50,50)))"
   ]
  },
  {
   "cell_type": "code",
   "execution_count": 72,
   "metadata": {
    "colab": {
     "base_uri": "https://localhost:8080/",
     "height": 283
    },
    "id": "ns-BB4qZtdSe",
    "outputId": "666394f0-cf04-443f-92a1-2a27a2082c78"
   },
   "outputs": [
    {
     "data": {
      "text/plain": [
       "<matplotlib.image.AxesImage at 0x7f21ceece510>"
      ]
     },
     "execution_count": 72,
     "metadata": {},
     "output_type": "execute_result"
    },
    {
     "data": {
      "image/png": "[encoded data removed]",
      "text/plain": [
       "<Figure size 432x288 with 1 Axes>"
      ]
     },
     "metadata": {
      "needs_background": "light"
     },
     "output_type": "display_data"
    }
   ],
   "source": [
    "plt.imshow(np.reshape(drift_filter_array2,(50,50)))"
   ]
  },
  {
   "cell_type": "code",
   "execution_count": 73,
   "metadata": {
    "id": "mLX0y4hdtyKP"
   },
   "outputs": [],
   "source": [
    "rupa_data_drift_dashboard = Dashboard(tabs=[DataDriftTab])\n",
    "#rupa_data_drift_dashboard.calculate(x_old_dataframe.iloc[1:10], x_old_dataframe.iloc[11:15])\n",
    "## this is another way to calculate the drift with sections from the same data set\n",
    "#rupa_data_drift_dashboard.calculate(dataframe_1.iloc[1:80], dataframe_2.iloc[1:22])  \n",
    "rupa_data_drift_dashboard.calculate(dataframe_1, dataframe_2)"
   ]
  },
  {
   "cell_type": "code",
   "execution_count": null,
   "metadata": {
    "id": "bT_lDkhnvuHu"
   },
   "outputs": [],
   "source": [
    "\n",
    "rupa_data_drift_dashboard.show()"
   ]
  },
  {
   "cell_type": "code",
   "execution_count": null,
   "metadata": {
    "id": "927u3ANBXiV7"
   },
   "outputs": [],
   "source": [
    "rupa_data_drift_dashboard.save('/content/drive/My Drive/ModelMonitoringBlog/Rupas_Final_Files/Reports/RG_datadrift_2500_expected_sb_sp_v3.html')"
   ]
  },
  {
   "cell_type": "code",
   "execution_count": null,
   "metadata": {
    "id": "Z3T0jJFvXvLg"
   },
   "outputs": [],
   "source": [
    "rupa_data_drift_dashboard.calculate(dataframe_1, dataframe_1a)"
   ]
  },
  {
   "cell_type": "code",
   "execution_count": null,
   "metadata": {
    "id": "1HeZ2t4s3I5s"
   },
   "outputs": [],
   "source": [
    "rupa_data_drift_dashboard.save('/content/drive/My Drive/ModelMonitoringBlog/Rupas_Final_Files/Reports/RG_datadrift_2500_no_drift_sb_sb_v3.html')"
   ]
  },
  {
   "cell_type": "code",
   "execution_count": null,
   "metadata": {
    "id": "tRAZykJ23Reo"
   },
   "outputs": [],
   "source": []
  }
 ],
 "metadata": {
  "colab": {
   "collapsed_sections": [],
   "name": "RupaGhosh_Evidently_DataDriftForImagesCode_V2.ipynb",
   "provenance": []
  },
  "kernelspec": {
   "display_name": "Python 3",
   "language": "python",
   "name": "python3"
  },
  "language_info": {
   "codemirror_mode": {
    "name": "ipython",
    "version": 3
   },
   "file_extension": ".py",
   "mimetype": "text/x-python",
   "name": "python",
   "nbconvert_exporter": "python",
   "pygments_lexer": "ipython3",
   "version": "3.7.6"
  }
 },
 "nbformat": 4,
 "nbformat_minor": 1
}
