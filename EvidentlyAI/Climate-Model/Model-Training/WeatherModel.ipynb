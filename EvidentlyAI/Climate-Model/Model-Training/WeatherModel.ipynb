{
  "nbformat": 4,
  "nbformat_minor": 0,
  "metadata": {
    "colab": {
      "name": "WeatherModel.ipynb",
      "provenance": [],
      "collapsed_sections": [],
      "authorship_tag": "ABX9TyPKN+KE6mhyrrgbB5Dvp+b1",
      "include_colab_link": true
    },
    "kernelspec": {
      "name": "python3",
      "display_name": "Python 3"
    },
    "language_info": {
      "name": "python"
    }
  },
  "cells": [
    {
      "cell_type": "markdown",
      "metadata": {
        "id": "view-in-github",
        "colab_type": "text"
      },
      "source": [
        "<a href=\"https://colab.research.google.com/github/mfligiel/Models-for-MLOPS-Review/blob/main/WeatherModel.ipynb\" target=\"_parent\"><img src=\"https://colab.research.google.com/assets/colab-badge.svg\" alt=\"Open In Colab\"/></a>"
      ]
    },
    {
      "cell_type": "markdown",
      "metadata": {
        "id": "aqFUAqIRsChP"
      },
      "source": [
        "## Weather Data\n",
        "\n",
        "I am going to predict Chicago's weather from the weather of 5 other places nearby using a weather API.  This model isn't the most useful, but is good for showcasing model monitoring."
      ]
    },
    {
      "cell_type": "code",
      "metadata": {
        "id": "klZ4kTLvsvNF"
      },
      "source": [
        "import requests\n",
        "import pandas as pd\n",
        "import time"
      ],
      "execution_count": 1,
      "outputs": []
    },
    {
      "cell_type": "code",
      "metadata": {
        "colab": {
          "base_uri": "https://localhost:8080/"
        },
        "id": "_rXd3KU_9E0A",
        "outputId": "de7869e7-9962-49cc-91e4-fab0b59a9626"
      },
      "source": [
        "from google.colab import drive\n",
        "drive.mount('/content/gdrive')"
      ],
      "execution_count": 2,
      "outputs": [
        {
          "output_type": "stream",
          "text": [
            "Mounted at /content/gdrive\n"
          ],
          "name": "stdout"
        }
      ]
    },
    {
      "cell_type": "code",
      "metadata": {
        "id": "PhT8pXFBstYc"
      },
      "source": [
        "a = requests.get('http://www.7timer.info/bin/api.pl?lon=113.17&lat=23.09&product=astro&output=json')"
      ],
      "execution_count": 3,
      "outputs": []
    },
    {
      "cell_type": "code",
      "metadata": {
        "colab": {
          "base_uri": "https://localhost:8080/"
        },
        "id": "QlQA0XMK0TKv",
        "outputId": "9b8cbed1-ea72-4fc3-987e-e30f5c505014"
      },
      "source": [
        "print(a.json())"
      ],
      "execution_count": 4,
      "outputs": [
        {
          "output_type": "stream",
          "text": [
            "{'product': 'astro', 'init': '2021062812', 'dataseries': [{'timepoint': 3, 'cloudcover': 9, 'seeing': 6, 'transparency': 4, 'lifted_index': -4, 'rh2m': 9, 'wind10m': {'direction': 'SE', 'speed': 2}, 'temp2m': 30, 'prec_type': 'none'}, {'timepoint': 6, 'cloudcover': 9, 'seeing': 6, 'transparency': 4, 'lifted_index': -4, 'rh2m': 10, 'wind10m': {'direction': 'S', 'speed': 2}, 'temp2m': 29, 'prec_type': 'none'}, {'timepoint': 9, 'cloudcover': 9, 'seeing': 7, 'transparency': 5, 'lifted_index': -4, 'rh2m': 11, 'wind10m': {'direction': 'S', 'speed': 2}, 'temp2m': 29, 'prec_type': 'none'}, {'timepoint': 12, 'cloudcover': 9, 'seeing': 6, 'transparency': 4, 'lifted_index': -4, 'rh2m': 10, 'wind10m': {'direction': 'S', 'speed': 3}, 'temp2m': 30, 'prec_type': 'rain'}, {'timepoint': 15, 'cloudcover': 9, 'seeing': 6, 'transparency': 4, 'lifted_index': -6, 'rh2m': 8, 'wind10m': {'direction': 'S', 'speed': 3}, 'temp2m': 34, 'prec_type': 'rain'}, {'timepoint': 18, 'cloudcover': 9, 'seeing': 6, 'transparency': 4, 'lifted_index': -6, 'rh2m': 8, 'wind10m': {'direction': 'S', 'speed': 3}, 'temp2m': 33, 'prec_type': 'rain'}, {'timepoint': 21, 'cloudcover': 9, 'seeing': 7, 'transparency': 3, 'lifted_index': -6, 'rh2m': 9, 'wind10m': {'direction': 'S', 'speed': 2}, 'temp2m': 32, 'prec_type': 'rain'}, {'timepoint': 24, 'cloudcover': 9, 'seeing': 8, 'transparency': 4, 'lifted_index': -4, 'rh2m': 10, 'wind10m': {'direction': 'S', 'speed': 3}, 'temp2m': 30, 'prec_type': 'rain'}, {'timepoint': 27, 'cloudcover': 9, 'seeing': 8, 'transparency': 4, 'lifted_index': -4, 'rh2m': 10, 'wind10m': {'direction': 'S', 'speed': 2}, 'temp2m': 29, 'prec_type': 'rain'}, {'timepoint': 30, 'cloudcover': 9, 'seeing': 6, 'transparency': 5, 'lifted_index': -4, 'rh2m': 12, 'wind10m': {'direction': 'S', 'speed': 2}, 'temp2m': 29, 'prec_type': 'rain'}, {'timepoint': 33, 'cloudcover': 9, 'seeing': 8, 'transparency': 5, 'lifted_index': -4, 'rh2m': 11, 'wind10m': {'direction': 'S', 'speed': 2}, 'temp2m': 28, 'prec_type': 'rain'}, {'timepoint': 36, 'cloudcover': 9, 'seeing': 6, 'transparency': 4, 'lifted_index': -4, 'rh2m': 9, 'wind10m': {'direction': 'SW', 'speed': 3}, 'temp2m': 30, 'prec_type': 'rain'}, {'timepoint': 39, 'cloudcover': 9, 'seeing': 6, 'transparency': 3, 'lifted_index': -4, 'rh2m': 6, 'wind10m': {'direction': 'SW', 'speed': 3}, 'temp2m': 34, 'prec_type': 'rain'}, {'timepoint': 42, 'cloudcover': 9, 'seeing': 6, 'transparency': 3, 'lifted_index': -4, 'rh2m': 5, 'wind10m': {'direction': 'SW', 'speed': 3}, 'temp2m': 36, 'prec_type': 'rain'}, {'timepoint': 45, 'cloudcover': 8, 'seeing': 6, 'transparency': 3, 'lifted_index': -4, 'rh2m': 6, 'wind10m': {'direction': 'S', 'speed': 3}, 'temp2m': 34, 'prec_type': 'rain'}, {'timepoint': 48, 'cloudcover': 8, 'seeing': 6, 'transparency': 4, 'lifted_index': -4, 'rh2m': 9, 'wind10m': {'direction': 'S', 'speed': 3}, 'temp2m': 31, 'prec_type': 'rain'}, {'timepoint': 51, 'cloudcover': 9, 'seeing': 6, 'transparency': 5, 'lifted_index': -4, 'rh2m': 11, 'wind10m': {'direction': 'S', 'speed': 3}, 'temp2m': 30, 'prec_type': 'rain'}, {'timepoint': 54, 'cloudcover': 9, 'seeing': 6, 'transparency': 5, 'lifted_index': -4, 'rh2m': 11, 'wind10m': {'direction': 'S', 'speed': 3}, 'temp2m': 29, 'prec_type': 'rain'}, {'timepoint': 57, 'cloudcover': 7, 'seeing': 7, 'transparency': 5, 'lifted_index': -4, 'rh2m': 11, 'wind10m': {'direction': 'S', 'speed': 3}, 'temp2m': 29, 'prec_type': 'rain'}, {'timepoint': 60, 'cloudcover': 6, 'seeing': 6, 'transparency': 4, 'lifted_index': -4, 'rh2m': 9, 'wind10m': {'direction': 'S', 'speed': 3}, 'temp2m': 30, 'prec_type': 'rain'}, {'timepoint': 63, 'cloudcover': 7, 'seeing': 6, 'transparency': 3, 'lifted_index': -4, 'rh2m': 6, 'wind10m': {'direction': 'SW', 'speed': 3}, 'temp2m': 34, 'prec_type': 'rain'}, {'timepoint': 66, 'cloudcover': 8, 'seeing': 6, 'transparency': 3, 'lifted_index': -4, 'rh2m': 4, 'wind10m': {'direction': 'SW', 'speed': 3}, 'temp2m': 36, 'prec_type': 'rain'}, {'timepoint': 69, 'cloudcover': 8, 'seeing': 6, 'transparency': 3, 'lifted_index': -4, 'rh2m': 5, 'wind10m': {'direction': 'SW', 'speed': 3}, 'temp2m': 35, 'prec_type': 'none'}, {'timepoint': 72, 'cloudcover': 9, 'seeing': 6, 'transparency': 4, 'lifted_index': -1, 'rh2m': 8, 'wind10m': {'direction': 'S', 'speed': 3}, 'temp2m': 32, 'prec_type': 'none'}]}\n"
          ],
          "name": "stdout"
        }
      ]
    },
    {
      "cell_type": "markdown",
      "metadata": {
        "id": "lYwckxD10xK1"
      },
      "source": [
        "Ok.  This API works.  What I need to do is get the lat/long of 5 cities, and get this over time.\n",
        "\n",
        "Let me try another one, to see how it does:"
      ]
    },
    {
      "cell_type": "code",
      "metadata": {
        "id": "FzO8U34z0d_l"
      },
      "source": [
        "b = requests.get('https://www.metaweather.com/api/location/44418/2013/4/27/')"
      ],
      "execution_count": 5,
      "outputs": []
    },
    {
      "cell_type": "code",
      "metadata": {
        "colab": {
          "base_uri": "https://localhost:8080/"
        },
        "id": "rqA4hFu318KL",
        "outputId": "fc2aa3df-3fb0-48f1-cf56-4c700eacb0f7"
      },
      "source": [
        "print(b.json())"
      ],
      "execution_count": 6,
      "outputs": [
        {
          "output_type": "stream",
          "text": [
            "[{'id': 366945, 'weather_state_name': 'Light Rain', 'weather_state_abbr': 'lr', 'wind_direction_compass': 'N', 'created': '2013-04-27T22:52:57.403100Z', 'applicable_date': '2013-04-27', 'min_temp': 3.07, 'max_temp': 10.01, 'the_temp': None, 'wind_speed': 9.85, 'wind_direction': 358.0, 'air_pressure': None, 'humidity': 74, 'visibility': 9.997862483098704, 'predictability': 75}, {'id': 373220, 'weather_state_name': 'Light Rain', 'weather_state_abbr': 'lr', 'wind_direction_compass': 'N', 'created': '2013-04-27T20:52:55.929470Z', 'applicable_date': '2013-04-27', 'min_temp': 3.07, 'max_temp': 10.01, 'the_temp': None, 'wind_speed': 9.85, 'wind_direction': 358.0, 'air_pressure': None, 'humidity': 74, 'visibility': 9.997862483098704, 'predictability': 75}, {'id': 371006, 'weather_state_name': 'Clear', 'weather_state_abbr': 'c', 'wind_direction_compass': 'NNE', 'created': '2013-04-27T18:52:50.537450Z', 'applicable_date': '2013-04-27', 'min_temp': 4.0, 'max_temp': None, 'the_temp': None, 'wind_speed': 5.0, 'wind_direction': 22.500000000000004, 'air_pressure': None, 'humidity': None, 'visibility': None, 'predictability': 68}, {'id': 363812, 'weather_state_name': 'Light Rain', 'weather_state_abbr': 'lr', 'wind_direction_compass': 'N', 'created': '2013-04-27T16:52:46.832520Z', 'applicable_date': '2013-04-27', 'min_temp': 3.1, 'max_temp': 10.38, 'the_temp': None, 'wind_speed': 10.07, 'wind_direction': 356.99999999999994, 'air_pressure': None, 'humidity': 74, 'visibility': 9.997862483098704, 'predictability': 75}, {'id': 359953, 'weather_state_name': 'Light Cloud', 'weather_state_abbr': 'lc', 'wind_direction_compass': 'N', 'created': '2013-04-27T14:52:42.352590Z', 'applicable_date': '2013-04-27', 'min_temp': 2.8, 'max_temp': 10.57, 'the_temp': None, 'wind_speed': 10.17, 'wind_direction': 358.0, 'air_pressure': None, 'humidity': 73, 'visibility': 9.997862483098704, 'predictability': 70}, {'id': 364366, 'weather_state_name': 'Light Cloud', 'weather_state_abbr': 'lc', 'wind_direction_compass': 'N', 'created': '2013-04-27T12:52:41.194780Z', 'applicable_date': '2013-04-27', 'min_temp': 2.8, 'max_temp': 10.57, 'the_temp': None, 'wind_speed': 10.17, 'wind_direction': 358.0, 'air_pressure': None, 'humidity': 73, 'visibility': 9.997862483098704, 'predictability': 70}, {'id': 367069, 'weather_state_name': 'Light Rain', 'weather_state_abbr': 'lr', 'wind_direction_compass': 'False', 'created': '2013-04-27T10:52:36.371380Z', 'applicable_date': '2013-04-27', 'min_temp': 4.0, 'max_temp': 10.0, 'the_temp': None, 'wind_speed': 11.0, 'wind_direction': 0.0, 'air_pressure': None, 'humidity': None, 'visibility': None, 'predictability': 75}, {'id': 362256, 'weather_state_name': 'Light Cloud', 'weather_state_abbr': 'lc', 'wind_direction_compass': 'N', 'created': '2013-04-27T08:52:33.873650Z', 'applicable_date': '2013-04-27', 'min_temp': 2.65, 'max_temp': 10.53, 'the_temp': None, 'wind_speed': 9.87, 'wind_direction': 358.0, 'air_pressure': None, 'humidity': 74, 'visibility': 9.997862483098704, 'predictability': 70}, {'id': 361124, 'weather_state_name': 'Light Cloud', 'weather_state_abbr': 'lc', 'wind_direction_compass': 'N', 'created': '2013-04-27T06:52:27.601070Z', 'applicable_date': '2013-04-27', 'min_temp': 3.9, 'max_temp': 9.83, 'the_temp': None, 'wind_speed': 9.52, 'wind_direction': 358.0, 'air_pressure': None, 'humidity': 71, 'visibility': 9.997862483098704, 'predictability': 70}, {'id': 358563, 'weather_state_name': 'Light Cloud', 'weather_state_abbr': 'lc', 'wind_direction_compass': 'N', 'created': '2013-04-27T04:52:26.269960Z', 'applicable_date': '2013-04-27', 'min_temp': 3.9, 'max_temp': 9.83, 'the_temp': None, 'wind_speed': 9.52, 'wind_direction': 358.0, 'air_pressure': None, 'humidity': 71, 'visibility': 9.997862483098704, 'predictability': 70}, {'id': 351889, 'weather_state_name': 'Light Rain', 'weather_state_abbr': 'lr', 'wind_direction_compass': 'WSW', 'created': '2013-04-27T02:52:21.154710Z', 'applicable_date': '2013-04-27', 'min_temp': 1.61, 'max_temp': 11.6, 'the_temp': None, 'wind_speed': 8.37, 'wind_direction': 255.0, 'air_pressure': None, 'humidity': 73, 'visibility': 9.997862483098704, 'predictability': 75}, {'id': 357462, 'weather_state_name': 'Light Rain', 'weather_state_abbr': 'lr', 'wind_direction_compass': 'WSW', 'created': '2013-04-27T00:52:16.525670Z', 'applicable_date': '2013-04-27', 'min_temp': 1.61, 'max_temp': 11.6, 'the_temp': None, 'wind_speed': 8.37, 'wind_direction': 255.0, 'air_pressure': None, 'humidity': 73, 'visibility': 9.997862483098704, 'predictability': 75}, {'id': 352479, 'weather_state_name': 'Light Rain', 'weather_state_abbr': 'lr', 'wind_direction_compass': 'False', 'created': '2013-04-26T22:52:15.825640Z', 'applicable_date': '2013-04-27', 'min_temp': 3.0, 'max_temp': 10.0, 'the_temp': None, 'wind_speed': 12.0, 'wind_direction': 0.0, 'air_pressure': None, 'humidity': None, 'visibility': None, 'predictability': 75}, {'id': 350533, 'weather_state_name': 'Showers', 'weather_state_abbr': 's', 'wind_direction_compass': 'NNE', 'created': '2013-04-26T20:52:13.680970Z', 'applicable_date': '2013-04-27', 'min_temp': None, 'max_temp': None, 'the_temp': 10.32, 'wind_speed': 11.9004676, 'wind_direction': 22.500000000000004, 'air_pressure': 1015.0, 'humidity': 66, 'visibility': 7.154467907420663, 'predictability': 73}, {'id': 348793, 'weather_state_name': 'Light Rain', 'weather_state_abbr': 'lr', 'wind_direction_compass': 'False', 'created': '2013-04-26T18:52:08.144810Z', 'applicable_date': '2013-04-27', 'min_temp': 3.97, 'max_temp': 9.42, 'the_temp': None, 'wind_speed': 8.93, 'wind_direction': 0.0, 'air_pressure': None, 'humidity': 76, 'visibility': 9.997862483098704, 'predictability': 75}, {'id': 345994, 'weather_state_name': 'Light Rain', 'weather_state_abbr': 'lr', 'wind_direction_compass': 'False', 'created': '2013-04-26T16:52:04.407280Z', 'applicable_date': '2013-04-27', 'min_temp': 3.97, 'max_temp': 9.42, 'the_temp': None, 'wind_speed': 8.93, 'wind_direction': 0.0, 'air_pressure': None, 'humidity': 76, 'visibility': 9.997862483098704, 'predictability': 75}, {'id': 349263, 'weather_state_name': 'Light Rain', 'weather_state_abbr': 'lr', 'wind_direction_compass': 'NNE', 'created': '2013-04-26T14:52:01.792780Z', 'applicable_date': '2013-04-27', 'min_temp': 3.0, 'max_temp': 10.0, 'the_temp': None, 'wind_speed': 11.0, 'wind_direction': 22.500000000000004, 'air_pressure': None, 'humidity': None, 'visibility': None, 'predictability': 75}, {'id': 341959, 'weather_state_name': 'Light Rain', 'weather_state_abbr': 'lr', 'wind_direction_compass': 'N', 'created': '2013-04-26T12:51:55.373580Z', 'applicable_date': '2013-04-27', 'min_temp': 4.79, 'max_temp': 9.42, 'the_temp': None, 'wind_speed': 9.02, 'wind_direction': 2.0, 'air_pressure': None, 'humidity': 72, 'visibility': 9.997862483098704, 'predictability': 75}, {'id': 339987, 'weather_state_name': 'Light Rain', 'weather_state_abbr': 'lr', 'wind_direction_compass': 'N', 'created': '2013-04-26T10:51:53.873440Z', 'applicable_date': '2013-04-27', 'min_temp': 4.15, 'max_temp': 9.97, 'the_temp': None, 'wind_speed': 9.17, 'wind_direction': 1.0, 'air_pressure': None, 'humidity': 72, 'visibility': 9.997862483098704, 'predictability': 75}, {'id': 342613, 'weather_state_name': 'Light Rain', 'weather_state_abbr': 'lr', 'wind_direction_compass': 'N', 'created': '2013-04-26T08:51:48.842260Z', 'applicable_date': '2013-04-27', 'min_temp': 4.15, 'max_temp': 9.97, 'the_temp': None, 'wind_speed': 9.17, 'wind_direction': 1.0, 'air_pressure': None, 'humidity': 72, 'visibility': 9.997862483098704, 'predictability': 75}, {'id': 339901, 'weather_state_name': 'Light Rain', 'weather_state_abbr': 'lr', 'wind_direction_compass': 'N', 'created': '2013-04-26T06:46:26.382460Z', 'applicable_date': '2013-04-27', 'min_temp': 4.15, 'max_temp': 9.97, 'the_temp': None, 'wind_speed': 9.17, 'wind_direction': 1.0, 'air_pressure': None, 'humidity': 72, 'visibility': 9.997862483098704, 'predictability': 75}, {'id': 345120, 'weather_state_name': 'Light Rain', 'weather_state_abbr': 'lr', 'wind_direction_compass': 'N', 'created': '2013-04-26T05:46:20.493490Z', 'applicable_date': '2013-04-27', 'min_temp': 4.39, 'max_temp': 10.05, 'the_temp': None, 'wind_speed': 9.2, 'wind_direction': 3.0000000000000004, 'air_pressure': None, 'humidity': 72, 'visibility': 9.997862483098704, 'predictability': 75}, {'id': 345067, 'weather_state_name': 'Light Rain', 'weather_state_abbr': 'lr', 'wind_direction_compass': 'N', 'created': '2013-04-26T04:46:17.276060Z', 'applicable_date': '2013-04-27', 'min_temp': 4.39, 'max_temp': 10.05, 'the_temp': None, 'wind_speed': 9.2, 'wind_direction': 3.0000000000000004, 'air_pressure': None, 'humidity': 72, 'visibility': 9.997862483098704, 'predictability': 75}, {'id': 334872, 'weather_state_name': 'Light Rain', 'weather_state_abbr': 'lr', 'wind_direction_compass': 'N', 'created': '2013-04-26T03:46:16.976380Z', 'applicable_date': '2013-04-27', 'min_temp': 4.5, 'max_temp': 10.16, 'the_temp': None, 'wind_speed': 9.7, 'wind_direction': 5.0, 'air_pressure': None, 'humidity': 70, 'visibility': 9.997862483098704, 'predictability': 75}, {'id': 337730, 'weather_state_name': 'Light Rain', 'weather_state_abbr': 'lr', 'wind_direction_compass': 'N', 'created': '2013-04-26T02:46:12.191900Z', 'applicable_date': '2013-04-27', 'min_temp': 4.5, 'max_temp': 10.16, 'the_temp': None, 'wind_speed': 9.7, 'wind_direction': 5.0, 'air_pressure': None, 'humidity': 70, 'visibility': 9.997862483098704, 'predictability': 75}, {'id': 331884, 'weather_state_name': 'Light Rain', 'weather_state_abbr': 'lr', 'wind_direction_compass': 'N', 'created': '2013-04-26T01:46:09.667780Z', 'applicable_date': '2013-04-27', 'min_temp': 4.68, 'max_temp': 10.86, 'the_temp': None, 'wind_speed': 9.2, 'wind_direction': 3.0000000000000004, 'air_pressure': None, 'humidity': 69, 'visibility': 9.997862483098704, 'predictability': 75}, {'id': 335582, 'weather_state_name': 'Light Rain', 'weather_state_abbr': 'lr', 'wind_direction_compass': 'N', 'created': '2013-04-26T00:46:09.213380Z', 'applicable_date': '2013-04-27', 'min_temp': 4.68, 'max_temp': 10.86, 'the_temp': None, 'wind_speed': 9.2, 'wind_direction': 3.0000000000000004, 'air_pressure': None, 'humidity': 69, 'visibility': 9.997862483098704, 'predictability': 75}, {'id': 331640, 'weather_state_name': 'Light Rain', 'weather_state_abbr': 'lr', 'wind_direction_compass': 'N', 'created': '2013-04-25T23:46:04.175640Z', 'applicable_date': '2013-04-27', 'min_temp': 4.76, 'max_temp': 10.69, 'the_temp': None, 'wind_speed': 9.21, 'wind_direction': 2.0, 'air_pressure': None, 'humidity': 69, 'visibility': 9.997862483098704, 'predictability': 75}, {'id': 332463, 'weather_state_name': 'Light Rain', 'weather_state_abbr': 'lr', 'wind_direction_compass': 'N', 'created': '2013-04-25T22:46:01.682190Z', 'applicable_date': '2013-04-27', 'min_temp': 4.76, 'max_temp': 10.69, 'the_temp': None, 'wind_speed': 9.21, 'wind_direction': 2.0, 'air_pressure': None, 'humidity': 69, 'visibility': 9.997862483098704, 'predictability': 75}, {'id': 330405, 'weather_state_name': 'Light Rain', 'weather_state_abbr': 'lr', 'wind_direction_compass': 'N', 'created': '2013-04-25T21:46:01.052990Z', 'applicable_date': '2013-04-27', 'min_temp': 4.69, 'max_temp': 10.58, 'the_temp': None, 'wind_speed': 9.36, 'wind_direction': 6.000000000000001, 'air_pressure': None, 'humidity': 69, 'visibility': 9.997862483098704, 'predictability': 75}, {'id': 335024, 'weather_state_name': 'Light Rain', 'weather_state_abbr': 'lr', 'wind_direction_compass': 'N', 'created': '2013-04-25T20:45:57.511090Z', 'applicable_date': '2013-04-27', 'min_temp': 4.69, 'max_temp': 10.58, 'the_temp': None, 'wind_speed': 9.36, 'wind_direction': 6.000000000000001, 'air_pressure': None, 'humidity': 69, 'visibility': 9.997862483098704, 'predictability': 75}, {'id': 325814, 'weather_state_name': 'Light Rain', 'weather_state_abbr': 'lr', 'wind_direction_compass': 'N', 'created': '2013-04-25T19:45:56.420560Z', 'applicable_date': '2013-04-27', 'min_temp': 5.0, 'max_temp': 10.97, 'the_temp': None, 'wind_speed': 9.62, 'wind_direction': 6.000000000000001, 'air_pressure': None, 'humidity': 67, 'visibility': 9.997862483098704, 'predictability': 75}, {'id': 328536, 'weather_state_name': 'Light Rain', 'weather_state_abbr': 'lr', 'wind_direction_compass': 'N', 'created': '2013-04-25T18:45:54.175370Z', 'applicable_date': '2013-04-27', 'min_temp': 5.0, 'max_temp': 10.97, 'the_temp': None, 'wind_speed': 9.62, 'wind_direction': 6.000000000000001, 'air_pressure': None, 'humidity': 67, 'visibility': 9.997862483098704, 'predictability': 75}, {'id': 327467, 'weather_state_name': 'Light Rain', 'weather_state_abbr': 'lr', 'wind_direction_compass': 'N', 'created': '2013-04-25T17:45:50.698510Z', 'applicable_date': '2013-04-27', 'min_temp': 5.21, 'max_temp': 10.99, 'the_temp': None, 'wind_speed': 9.27, 'wind_direction': 10.0, 'air_pressure': None, 'humidity': 66, 'visibility': 9.997862483098704, 'predictability': 75}, {'id': 320854, 'weather_state_name': 'Light Rain', 'weather_state_abbr': 'lr', 'wind_direction_compass': 'N', 'created': '2013-04-25T16:45:44.899470Z', 'applicable_date': '2013-04-27', 'min_temp': 5.21, 'max_temp': 10.99, 'the_temp': None, 'wind_speed': 9.27, 'wind_direction': 10.0, 'air_pressure': None, 'humidity': 66, 'visibility': 9.997862483098704, 'predictability': 75}, {'id': 324286, 'weather_state_name': 'Light Rain', 'weather_state_abbr': 'lr', 'wind_direction_compass': 'N', 'created': '2013-04-25T15:45:44.121330Z', 'applicable_date': '2013-04-27', 'min_temp': 5.07, 'max_temp': 10.94, 'the_temp': None, 'wind_speed': 9.26, 'wind_direction': 10.0, 'air_pressure': None, 'humidity': 67, 'visibility': 9.997862483098704, 'predictability': 75}, {'id': 323377, 'weather_state_name': 'Light Rain', 'weather_state_abbr': 'lr', 'wind_direction_compass': 'N', 'created': '2013-04-25T14:45:40.792560Z', 'applicable_date': '2013-04-27', 'min_temp': 5.07, 'max_temp': 10.94, 'the_temp': None, 'wind_speed': 9.26, 'wind_direction': 10.0, 'air_pressure': None, 'humidity': 67, 'visibility': 9.997862483098704, 'predictability': 75}, {'id': 317907, 'weather_state_name': 'Light Rain', 'weather_state_abbr': 'lr', 'wind_direction_compass': 'NNE', 'created': '2013-04-25T13:45:34.170100Z', 'applicable_date': '2013-04-27', 'min_temp': 4.81, 'max_temp': 10.97, 'the_temp': None, 'wind_speed': 9.95, 'wind_direction': 12.0, 'air_pressure': None, 'humidity': 68, 'visibility': 9.997862483098704, 'predictability': 75}, {'id': 320357, 'weather_state_name': 'Light Rain', 'weather_state_abbr': 'lr', 'wind_direction_compass': 'NNE', 'created': '2013-04-25T12:45:32.961470Z', 'applicable_date': '2013-04-27', 'min_temp': 4.81, 'max_temp': 10.97, 'the_temp': None, 'wind_speed': 9.95, 'wind_direction': 12.0, 'air_pressure': None, 'humidity': 68, 'visibility': 9.997862483098704, 'predictability': 75}, {'id': 319355, 'weather_state_name': 'Light Rain', 'weather_state_abbr': 'lr', 'wind_direction_compass': 'NNE', 'created': '2013-04-25T11:45:24.222530Z', 'applicable_date': '2013-04-27', 'min_temp': 4.55, 'max_temp': 10.7, 'the_temp': None, 'wind_speed': 9.94, 'wind_direction': 13.0, 'air_pressure': None, 'humidity': 68, 'visibility': 9.997862483098704, 'predictability': 75}, {'id': 314721, 'weather_state_name': 'Light Rain', 'weather_state_abbr': 'lr', 'wind_direction_compass': 'NNE', 'created': '2013-04-25T10:45:21.155970Z', 'applicable_date': '2013-04-27', 'min_temp': 4.55, 'max_temp': 10.7, 'the_temp': None, 'wind_speed': 9.94, 'wind_direction': 13.0, 'air_pressure': None, 'humidity': 68, 'visibility': 9.997862483098704, 'predictability': 75}, {'id': 311799, 'weather_state_name': 'Light Rain', 'weather_state_abbr': 'lr', 'wind_direction_compass': 'NNE', 'created': '2013-04-25T09:45:18.369130Z', 'applicable_date': '2013-04-27', 'min_temp': 3.84, 'max_temp': 10.56, 'the_temp': None, 'wind_speed': 9.74, 'wind_direction': 14.999999999999998, 'air_pressure': None, 'humidity': 68, 'visibility': 9.997862483098704, 'predictability': 75}, {'id': 313534, 'weather_state_name': 'Light Rain', 'weather_state_abbr': 'lr', 'wind_direction_compass': 'NNE', 'created': '2013-04-25T08:45:15.734920Z', 'applicable_date': '2013-04-27', 'min_temp': 3.84, 'max_temp': 10.56, 'the_temp': None, 'wind_speed': 9.74, 'wind_direction': 14.999999999999998, 'air_pressure': None, 'humidity': 68, 'visibility': 9.997862483098704, 'predictability': 75}, {'id': 316194, 'weather_state_name': 'Light Rain', 'weather_state_abbr': 'lr', 'wind_direction_compass': 'NNE', 'created': '2013-04-25T07:45:12.566360Z', 'applicable_date': '2013-04-27', 'min_temp': 3.77, 'max_temp': 10.5, 'the_temp': None, 'wind_speed': 9.63, 'wind_direction': 14.999999999999998, 'air_pressure': None, 'humidity': 68, 'visibility': 9.997862483098704, 'predictability': 75}, {'id': 310611, 'weather_state_name': 'Light Rain', 'weather_state_abbr': 'lr', 'wind_direction_compass': 'NNE', 'created': '2013-04-25T06:45:09.431560Z', 'applicable_date': '2013-04-27', 'min_temp': 3.77, 'max_temp': 10.5, 'the_temp': None, 'wind_speed': 9.63, 'wind_direction': 14.999999999999998, 'air_pressure': None, 'humidity': 68, 'visibility': 9.997862483098704, 'predictability': 75}, {'id': 304961, 'weather_state_name': 'Light Cloud', 'weather_state_abbr': 'lc', 'wind_direction_compass': 'NNE', 'created': '2013-04-25T05:45:05.878510Z', 'applicable_date': '2013-04-27', 'min_temp': 3.92, 'max_temp': 10.46, 'the_temp': None, 'wind_speed': 9.35, 'wind_direction': 16.0, 'air_pressure': None, 'humidity': 69, 'visibility': 9.997862483098704, 'predictability': 70}, {'id': 304001, 'weather_state_name': 'Light Cloud', 'weather_state_abbr': 'lc', 'wind_direction_compass': 'NNE', 'created': '2013-04-25T04:45:02.986980Z', 'applicable_date': '2013-04-27', 'min_temp': 3.92, 'max_temp': 10.46, 'the_temp': None, 'wind_speed': 9.35, 'wind_direction': 16.0, 'air_pressure': None, 'humidity': 69, 'visibility': 9.997862483098704, 'predictability': 70}, {'id': 303801, 'weather_state_name': 'Light Cloud', 'weather_state_abbr': 'lc', 'wind_direction_compass': 'NNE', 'created': '2013-04-25T03:45:00.410780Z', 'applicable_date': '2013-04-27', 'min_temp': 3.98, 'max_temp': 10.53, 'the_temp': None, 'wind_speed': 9.54, 'wind_direction': 16.0, 'air_pressure': None, 'humidity': 69, 'visibility': 9.997862483098704, 'predictability': 70}, {'id': 301942, 'weather_state_name': 'Light Cloud', 'weather_state_abbr': 'lc', 'wind_direction_compass': 'NNE', 'created': '2013-04-25T02:44:57.268780Z', 'applicable_date': '2013-04-27', 'min_temp': 3.98, 'max_temp': 10.53, 'the_temp': None, 'wind_speed': 9.54, 'wind_direction': 16.0, 'air_pressure': None, 'humidity': 69, 'visibility': 9.997862483098704, 'predictability': 70}, {'id': 304453, 'weather_state_name': 'Light Cloud', 'weather_state_abbr': 'lc', 'wind_direction_compass': 'NNE', 'created': '2013-04-25T01:44:57.030240Z', 'applicable_date': '2013-04-27', 'min_temp': 4.51, 'max_temp': 10.61, 'the_temp': None, 'wind_speed': 9.78, 'wind_direction': 16.0, 'air_pressure': None, 'humidity': 68, 'visibility': 9.997862483098704, 'predictability': 70}, {'id': 304408, 'weather_state_name': 'Light Cloud', 'weather_state_abbr': 'lc', 'wind_direction_compass': 'NNE', 'created': '2013-04-25T00:44:51.895920Z', 'applicable_date': '2013-04-27', 'min_temp': 4.51, 'max_temp': 10.61, 'the_temp': None, 'wind_speed': 9.78, 'wind_direction': 16.0, 'air_pressure': None, 'humidity': 68, 'visibility': 9.997862483098704, 'predictability': 70}, {'id': 305208, 'weather_state_name': 'Light Rain', 'weather_state_abbr': 'lr', 'wind_direction_compass': 'NNE', 'created': '2013-04-24T23:44:48.437280Z', 'applicable_date': '2013-04-27', 'min_temp': 4.44, 'max_temp': 10.28, 'the_temp': None, 'wind_speed': 9.86, 'wind_direction': 14.999999999999998, 'air_pressure': None, 'humidity': 68, 'visibility': 9.997862483098704, 'predictability': 75}, {'id': 304160, 'weather_state_name': 'Light Rain', 'weather_state_abbr': 'lr', 'wind_direction_compass': 'NNE', 'created': '2013-04-24T22:44:44.928600Z', 'applicable_date': '2013-04-27', 'min_temp': 4.44, 'max_temp': 10.28, 'the_temp': None, 'wind_speed': 9.86, 'wind_direction': 14.999999999999998, 'air_pressure': None, 'humidity': 68, 'visibility': 9.997862483098704, 'predictability': 75}, {'id': 303028, 'weather_state_name': 'Light Rain', 'weather_state_abbr': 'lr', 'wind_direction_compass': 'N', 'created': '2013-04-24T21:44:40.909330Z', 'applicable_date': '2013-04-27', 'min_temp': 3.75, 'max_temp': 10.3, 'the_temp': None, 'wind_speed': 9.38, 'wind_direction': 11.0, 'air_pressure': None, 'humidity': 69, 'visibility': 9.997862483098704, 'predictability': 75}, {'id': 287743, 'weather_state_name': 'Light Rain', 'weather_state_abbr': 'lr', 'wind_direction_compass': 'N', 'created': '2013-04-24T20:44:36.785290Z', 'applicable_date': '2013-04-27', 'min_temp': 3.75, 'max_temp': 10.3, 'the_temp': None, 'wind_speed': 9.38, 'wind_direction': 11.0, 'air_pressure': None, 'humidity': 69, 'visibility': 9.997862483098704, 'predictability': 75}, {'id': 283772, 'weather_state_name': 'Light Rain', 'weather_state_abbr': 'lr', 'wind_direction_compass': 'NNE', 'created': '2013-04-24T19:44:32.956510Z', 'applicable_date': '2013-04-27', 'min_temp': 3.81, 'max_temp': 10.36, 'the_temp': None, 'wind_speed': 9.58, 'wind_direction': 12.0, 'air_pressure': None, 'humidity': 70, 'visibility': 9.997862483098704, 'predictability': 75}, {'id': 281907, 'weather_state_name': 'Light Rain', 'weather_state_abbr': 'lr', 'wind_direction_compass': 'NNE', 'created': '2013-04-24T18:44:29.522040Z', 'applicable_date': '2013-04-27', 'min_temp': 3.81, 'max_temp': 10.36, 'the_temp': None, 'wind_speed': 9.58, 'wind_direction': 12.0, 'air_pressure': None, 'humidity': 70, 'visibility': 9.997862483098704, 'predictability': 75}, {'id': 296022, 'weather_state_name': 'Light Cloud', 'weather_state_abbr': 'lc', 'wind_direction_compass': 'NNE', 'created': '2013-04-24T17:44:23.927560Z', 'applicable_date': '2013-04-27', 'min_temp': 4.01, 'max_temp': 10.48, 'the_temp': None, 'wind_speed': 10.09, 'wind_direction': 13.0, 'air_pressure': None, 'humidity': 69, 'visibility': 9.997862483098704, 'predictability': 70}, {'id': 291002, 'weather_state_name': 'Light Cloud', 'weather_state_abbr': 'lc', 'wind_direction_compass': 'NNE', 'created': '2013-04-24T16:44:19.292160Z', 'applicable_date': '2013-04-27', 'min_temp': 4.01, 'max_temp': 10.48, 'the_temp': None, 'wind_speed': 10.09, 'wind_direction': 13.0, 'air_pressure': None, 'humidity': 69, 'visibility': 9.997862483098704, 'predictability': 70}, {'id': 287153, 'weather_state_name': 'Light Cloud', 'weather_state_abbr': 'lc', 'wind_direction_compass': 'NNE', 'created': '2013-04-24T15:44:13.648720Z', 'applicable_date': '2013-04-27', 'min_temp': 4.0, 'max_temp': 10.49, 'the_temp': None, 'wind_speed': 10.09, 'wind_direction': 13.0, 'air_pressure': None, 'humidity': 69, 'visibility': 9.997862483098704, 'predictability': 70}, {'id': 280594, 'weather_state_name': 'Light Cloud', 'weather_state_abbr': 'lc', 'wind_direction_compass': 'NNE', 'created': '2013-04-24T14:44:09.616910Z', 'applicable_date': '2013-04-27', 'min_temp': 4.0, 'max_temp': 10.49, 'the_temp': None, 'wind_speed': 10.09, 'wind_direction': 13.0, 'air_pressure': None, 'humidity': 69, 'visibility': 9.997862483098704, 'predictability': 70}, {'id': 285013, 'weather_state_name': 'Light Cloud', 'weather_state_abbr': 'lc', 'wind_direction_compass': 'NNE', 'created': '2013-04-24T13:44:09.451960Z', 'applicable_date': '2013-04-27', 'min_temp': 4.02, 'max_temp': 10.38, 'the_temp': None, 'wind_speed': 10.17, 'wind_direction': 17.000000000000004, 'air_pressure': None, 'humidity': 70, 'visibility': 9.997862483098704, 'predictability': 70}, {'id': 275970, 'weather_state_name': 'Light Cloud', 'weather_state_abbr': 'lc', 'wind_direction_compass': 'NNE', 'created': '2013-04-24T12:44:02.112190Z', 'applicable_date': '2013-04-27', 'min_temp': 4.02, 'max_temp': 10.38, 'the_temp': None, 'wind_speed': 10.17, 'wind_direction': 17.000000000000004, 'air_pressure': None, 'humidity': 70, 'visibility': 9.997862483098704, 'predictability': 70}, {'id': 280117, 'weather_state_name': 'Light Cloud', 'weather_state_abbr': 'lc', 'wind_direction_compass': 'NNE', 'created': '2013-04-24T11:43:59.291190Z', 'applicable_date': '2013-04-27', 'min_temp': 3.89, 'max_temp': 10.3, 'the_temp': None, 'wind_speed': 10.0, 'wind_direction': 16.0, 'air_pressure': None, 'humidity': 69, 'visibility': 9.997862483098704, 'predictability': 70}, {'id': 277565, 'weather_state_name': 'Light Cloud', 'weather_state_abbr': 'lc', 'wind_direction_compass': 'NNE', 'created': '2013-04-24T10:43:58.177010Z', 'applicable_date': '2013-04-27', 'min_temp': 3.89, 'max_temp': 10.3, 'the_temp': None, 'wind_speed': 10.0, 'wind_direction': 16.0, 'air_pressure': None, 'humidity': 69, 'visibility': 9.997862483098704, 'predictability': 70}, {'id': 274492, 'weather_state_name': 'Light Cloud', 'weather_state_abbr': 'lc', 'wind_direction_compass': 'NNE', 'created': '2013-04-24T09:43:52.880990Z', 'applicable_date': '2013-04-27', 'min_temp': 3.66, 'max_temp': 9.04, 'the_temp': None, 'wind_speed': 10.0, 'wind_direction': 21.0, 'air_pressure': None, 'humidity': 70, 'visibility': 9.997862483098704, 'predictability': 70}, {'id': 278219, 'weather_state_name': 'Light Cloud', 'weather_state_abbr': 'lc', 'wind_direction_compass': 'NNE', 'created': '2013-04-24T08:43:49.831620Z', 'applicable_date': '2013-04-27', 'min_temp': 3.66, 'max_temp': 9.04, 'the_temp': None, 'wind_speed': 10.0, 'wind_direction': 21.0, 'air_pressure': None, 'humidity': 70, 'visibility': 9.997862483098704, 'predictability': 70}, {'id': 271469, 'weather_state_name': 'Light Cloud', 'weather_state_abbr': 'lc', 'wind_direction_compass': 'NNE', 'created': '2013-04-24T07:43:46.888860Z', 'applicable_date': '2013-04-27', 'min_temp': 3.51, 'max_temp': 8.96, 'the_temp': None, 'wind_speed': 9.87, 'wind_direction': 22.0, 'air_pressure': None, 'humidity': 71, 'visibility': 9.997862483098704, 'predictability': 70}, {'id': 270514, 'weather_state_name': 'Light Cloud', 'weather_state_abbr': 'lc', 'wind_direction_compass': 'NNE', 'created': '2013-04-24T06:43:48.467600Z', 'applicable_date': '2013-04-27', 'min_temp': 3.51, 'max_temp': 8.96, 'the_temp': None, 'wind_speed': 9.87, 'wind_direction': 22.0, 'air_pressure': None, 'humidity': 71, 'visibility': 9.997862483098704, 'predictability': 70}, {'id': 263993, 'weather_state_name': 'Light Rain', 'weather_state_abbr': 'lr', 'wind_direction_compass': 'NNE', 'created': '2013-04-24T05:43:42.684480Z', 'applicable_date': '2013-04-27', 'min_temp': 3.51, 'max_temp': 8.79, 'the_temp': None, 'wind_speed': 9.52, 'wind_direction': 19.0, 'air_pressure': None, 'humidity': 72, 'visibility': 9.997862483098704, 'predictability': 75}, {'id': 271164, 'weather_state_name': 'Light Rain', 'weather_state_abbr': 'lr', 'wind_direction_compass': 'NNE', 'created': '2013-04-24T04:43:36.752870Z', 'applicable_date': '2013-04-27', 'min_temp': 3.51, 'max_temp': 8.79, 'the_temp': None, 'wind_speed': 9.52, 'wind_direction': 19.0, 'air_pressure': None, 'humidity': 72, 'visibility': 9.997862483098704, 'predictability': 75}, {'id': 267550, 'weather_state_name': 'Light Rain', 'weather_state_abbr': 'lr', 'wind_direction_compass': 'NNE', 'created': '2013-04-24T03:43:33.828730Z', 'applicable_date': '2013-04-27', 'min_temp': 3.51, 'max_temp': 8.82, 'the_temp': None, 'wind_speed': 9.46, 'wind_direction': 19.0, 'air_pressure': None, 'humidity': 72, 'visibility': 9.997862483098704, 'predictability': 75}, {'id': 261831, 'weather_state_name': 'Light Rain', 'weather_state_abbr': 'lr', 'wind_direction_compass': 'NNE', 'created': '2013-04-24T02:43:28.925810Z', 'applicable_date': '2013-04-27', 'min_temp': 3.51, 'max_temp': 8.82, 'the_temp': None, 'wind_speed': 9.46, 'wind_direction': 19.0, 'air_pressure': None, 'humidity': 72, 'visibility': 9.997862483098704, 'predictability': 75}, {'id': 264550, 'weather_state_name': 'Light Rain', 'weather_state_abbr': 'lr', 'wind_direction_compass': 'NNE', 'created': '2013-04-24T01:43:25.999880Z', 'applicable_date': '2013-04-27', 'min_temp': 4.24, 'max_temp': 8.9, 'the_temp': None, 'wind_speed': 9.29, 'wind_direction': 20.0, 'air_pressure': None, 'humidity': 72, 'visibility': 9.997862483098704, 'predictability': 75}, {'id': 267313, 'weather_state_name': 'Light Rain', 'weather_state_abbr': 'lr', 'wind_direction_compass': 'NNE', 'created': '2013-04-24T00:43:23.895250Z', 'applicable_date': '2013-04-27', 'min_temp': 4.24, 'max_temp': 8.9, 'the_temp': None, 'wind_speed': 9.29, 'wind_direction': 20.0, 'air_pressure': None, 'humidity': 72, 'visibility': 9.997862483098704, 'predictability': 75}, {'id': 261527, 'weather_state_name': 'Light Cloud', 'weather_state_abbr': 'lc', 'wind_direction_compass': 'NNE', 'created': '2013-04-23T23:43:23.186350Z', 'applicable_date': '2013-04-27', 'min_temp': 4.09, 'max_temp': 9.58, 'the_temp': None, 'wind_speed': 9.68, 'wind_direction': 20.0, 'air_pressure': None, 'humidity': 70, 'visibility': 9.997862483098704, 'predictability': 70}, {'id': 261490, 'weather_state_name': 'Light Cloud', 'weather_state_abbr': 'lc', 'wind_direction_compass': 'NNE', 'created': '2013-04-23T22:43:17.585130Z', 'applicable_date': '2013-04-27', 'min_temp': 4.09, 'max_temp': 9.58, 'the_temp': None, 'wind_speed': 9.68, 'wind_direction': 20.0, 'air_pressure': None, 'humidity': 70, 'visibility': 9.997862483098704, 'predictability': 70}, {'id': 266083, 'weather_state_name': 'Light Cloud', 'weather_state_abbr': 'lc', 'wind_direction_compass': 'NNE', 'created': '2013-04-23T21:43:15.063110Z', 'applicable_date': '2013-04-27', 'min_temp': 3.88, 'max_temp': 9.78, 'the_temp': None, 'wind_speed': 9.86, 'wind_direction': 23.0, 'air_pressure': None, 'humidity': 68, 'visibility': 9.997862483098704, 'predictability': 70}, {'id': 257944, 'weather_state_name': 'Light Cloud', 'weather_state_abbr': 'lc', 'wind_direction_compass': 'NNE', 'created': '2013-04-23T20:43:14.118410Z', 'applicable_date': '2013-04-27', 'min_temp': 3.88, 'max_temp': 9.78, 'the_temp': None, 'wind_speed': 9.86, 'wind_direction': 23.0, 'air_pressure': None, 'humidity': 68, 'visibility': 9.997862483098704, 'predictability': 70}, {'id': 264005, 'weather_state_name': 'Light Cloud', 'weather_state_abbr': 'lc', 'wind_direction_compass': 'NNE', 'created': '2013-04-23T19:43:09.284190Z', 'applicable_date': '2013-04-27', 'min_temp': 3.97, 'max_temp': 9.8, 'the_temp': None, 'wind_speed': 9.84, 'wind_direction': 23.0, 'air_pressure': None, 'humidity': 68, 'visibility': 9.997862483098704, 'predictability': 70}, {'id': 262066, 'weather_state_name': 'Light Cloud', 'weather_state_abbr': 'lc', 'wind_direction_compass': 'NNE', 'created': '2013-04-23T18:43:05.604390Z', 'applicable_date': '2013-04-27', 'min_temp': 3.97, 'max_temp': 9.8, 'the_temp': None, 'wind_speed': 9.84, 'wind_direction': 23.0, 'air_pressure': None, 'humidity': 68, 'visibility': 9.997862483098704, 'predictability': 70}, {'id': 256757, 'weather_state_name': 'Light Rain', 'weather_state_abbr': 'lr', 'wind_direction_compass': 'NNE', 'created': '2013-04-23T17:43:02.521260Z', 'applicable_date': '2013-04-27', 'min_temp': 3.29, 'max_temp': 9.5, 'the_temp': None, 'wind_speed': 10.03, 'wind_direction': 18.0, 'air_pressure': None, 'humidity': 69, 'visibility': 9.997862483098704, 'predictability': 75}, {'id': 260105, 'weather_state_name': 'Light Rain', 'weather_state_abbr': 'lr', 'wind_direction_compass': 'NNE', 'created': '2013-04-23T16:42:59.789740Z', 'applicable_date': '2013-04-27', 'min_temp': 3.29, 'max_temp': 9.5, 'the_temp': None, 'wind_speed': 10.03, 'wind_direction': 18.0, 'air_pressure': None, 'humidity': 69, 'visibility': 9.997862483098704, 'predictability': 75}, {'id': 253645, 'weather_state_name': 'Light Rain', 'weather_state_abbr': 'lr', 'wind_direction_compass': 'NNE', 'created': '2013-04-23T15:42:56.573040Z', 'applicable_date': '2013-04-27', 'min_temp': 3.29, 'max_temp': 9.53, 'the_temp': None, 'wind_speed': 10.03, 'wind_direction': 18.0, 'air_pressure': None, 'humidity': 69, 'visibility': 9.997862483098704, 'predictability': 75}, {'id': 251694, 'weather_state_name': 'Light Rain', 'weather_state_abbr': 'lr', 'wind_direction_compass': 'NNE', 'created': '2013-04-23T14:42:54.421840Z', 'applicable_date': '2013-04-27', 'min_temp': 3.29, 'max_temp': 9.53, 'the_temp': None, 'wind_speed': 10.03, 'wind_direction': 18.0, 'air_pressure': None, 'humidity': 69, 'visibility': 9.997862483098704, 'predictability': 75}, {'id': 253463, 'weather_state_name': 'Light Rain', 'weather_state_abbr': 'lr', 'wind_direction_compass': 'NNE', 'created': '2013-04-23T13:42:51.898140Z', 'applicable_date': '2013-04-27', 'min_temp': 3.87, 'max_temp': 9.55, 'the_temp': None, 'wind_speed': 9.86, 'wind_direction': 24.000000000000004, 'air_pressure': None, 'humidity': 69, 'visibility': 9.997862483098704, 'predictability': 75}, {'id': 254447, 'weather_state_name': 'Light Rain', 'weather_state_abbr': 'lr', 'wind_direction_compass': 'NNE', 'created': '2013-04-23T12:42:49.201650Z', 'applicable_date': '2013-04-27', 'min_temp': 3.87, 'max_temp': 9.55, 'the_temp': None, 'wind_speed': 9.86, 'wind_direction': 24.000000000000004, 'air_pressure': None, 'humidity': 69, 'visibility': 9.997862483098704, 'predictability': 75}, {'id': 249487, 'weather_state_name': 'Light Cloud', 'weather_state_abbr': 'lc', 'wind_direction_compass': 'NNE', 'created': '2013-04-23T11:42:46.337150Z', 'applicable_date': '2013-04-27', 'min_temp': 4.12, 'max_temp': 9.64, 'the_temp': None, 'wind_speed': 10.01, 'wind_direction': 26.999999999999996, 'air_pressure': None, 'humidity': 69, 'visibility': 9.997862483098704, 'predictability': 70}, {'id': 248641, 'weather_state_name': 'Light Cloud', 'weather_state_abbr': 'lc', 'wind_direction_compass': 'NNE', 'created': '2013-04-23T10:42:43.585550Z', 'applicable_date': '2013-04-27', 'min_temp': 4.12, 'max_temp': 9.64, 'the_temp': None, 'wind_speed': 10.01, 'wind_direction': 26.999999999999996, 'air_pressure': None, 'humidity': 69, 'visibility': 9.997862483098704, 'predictability': 70}, {'id': 249329, 'weather_state_name': 'Showers', 'weather_state_abbr': 's', 'wind_direction_compass': 'NNE', 'created': '2013-04-23T09:42:43.417290Z', 'applicable_date': '2013-04-27', 'min_temp': None, 'max_temp': None, 'the_temp': 10.28, 'wind_speed': 9.0, 'wind_direction': 22.500000000000004, 'air_pressure': 1015.0, 'humidity': 51, 'visibility': 18.146524298099102, 'predictability': 73}, {'id': 249296, 'weather_state_name': 'Showers', 'weather_state_abbr': 's', 'wind_direction_compass': 'NNE', 'created': '2013-04-23T08:42:40.487070Z', 'applicable_date': '2013-04-27', 'min_temp': None, 'max_temp': None, 'the_temp': 10.28, 'wind_speed': 9.0, 'wind_direction': 22.500000000000004, 'air_pressure': 1015.0, 'humidity': 51, 'visibility': 18.146524298099102, 'predictability': 73}, {'id': 252078, 'weather_state_name': 'Showers', 'weather_state_abbr': 's', 'wind_direction_compass': 'NNE', 'created': '2013-04-23T07:42:35.278270Z', 'applicable_date': '2013-04-27', 'min_temp': None, 'max_temp': None, 'the_temp': 10.28, 'wind_speed': 9.0, 'wind_direction': 22.500000000000004, 'air_pressure': 1015.0, 'humidity': 51, 'visibility': 18.146524298099102, 'predictability': 73}, {'id': 242936, 'weather_state_name': 'Showers', 'weather_state_abbr': 's', 'wind_direction_compass': 'NNE', 'created': '2013-04-23T06:42:34.997250Z', 'applicable_date': '2013-04-27', 'min_temp': None, 'max_temp': None, 'the_temp': 10.28, 'wind_speed': 9.0, 'wind_direction': 22.500000000000004, 'air_pressure': 1015.0, 'humidity': 51, 'visibility': 18.146524298099102, 'predictability': 73}, {'id': 239938, 'weather_state_name': 'Showers', 'weather_state_abbr': 's', 'wind_direction_compass': 'NNE', 'created': '2013-04-23T05:42:31.822000Z', 'applicable_date': '2013-04-27', 'min_temp': None, 'max_temp': None, 'the_temp': 10.28, 'wind_speed': 9.0, 'wind_direction': 22.500000000000004, 'air_pressure': 1015.0, 'humidity': 51, 'visibility': 18.146524298099102, 'predictability': 73}, {'id': 244576, 'weather_state_name': 'Showers', 'weather_state_abbr': 's', 'wind_direction_compass': 'NNE', 'created': '2013-04-23T04:42:25.987780Z', 'applicable_date': '2013-04-27', 'min_temp': None, 'max_temp': None, 'the_temp': 10.33, 'wind_speed': 8.0, 'wind_direction': 22.500000000000004, 'air_pressure': 1016.0, 'humidity': 51, 'visibility': 18.965491529467908, 'predictability': 73}, {'id': 241564, 'weather_state_name': 'Showers', 'weather_state_abbr': 's', 'wind_direction_compass': 'NNE', 'created': '2013-04-23T03:42:23.371390Z', 'applicable_date': '2013-04-27', 'min_temp': None, 'max_temp': None, 'the_temp': 10.33, 'wind_speed': 8.0, 'wind_direction': 22.500000000000004, 'air_pressure': 1016.0, 'humidity': 51, 'visibility': 18.965491529467908, 'predictability': 73}, {'id': 244286, 'weather_state_name': 'Showers', 'weather_state_abbr': 's', 'wind_direction_compass': 'NNE', 'created': '2013-04-23T02:42:20.533180Z', 'applicable_date': '2013-04-27', 'min_temp': None, 'max_temp': None, 'the_temp': 10.33, 'wind_speed': 8.0, 'wind_direction': 22.500000000000004, 'air_pressure': 1016.0, 'humidity': 51, 'visibility': 18.965491529467908, 'predictability': 73}, {'id': 242272, 'weather_state_name': 'Heavy Cloud', 'weather_state_abbr': 'hc', 'wind_direction_compass': 'NW', 'created': '2013-04-23T01:42:20.005750Z', 'applicable_date': '2013-04-27', 'min_temp': None, 'max_temp': None, 'the_temp': 12.76, 'wind_speed': 7.0, 'wind_direction': 315.0, 'air_pressure': 1017.0, 'humidity': 55, 'visibility': 15.246584943927465, 'predictability': 71}, {'id': 243073, 'weather_state_name': 'Heavy Cloud', 'weather_state_abbr': 'hc', 'wind_direction_compass': 'NW', 'created': '2013-04-23T00:42:17.386780Z', 'applicable_date': '2013-04-27', 'min_temp': None, 'max_temp': None, 'the_temp': 12.76, 'wind_speed': 7.0, 'wind_direction': 315.0, 'air_pressure': 1017.0, 'humidity': 55, 'visibility': 15.246584943927465, 'predictability': 71}]\n"
          ],
          "name": "stdout"
        }
      ]
    },
    {
      "cell_type": "markdown",
      "metadata": {
        "id": "JS0d1zF82DHx"
      },
      "source": [
        "This seems to work!  We need where on earth IDs for each place, and to get the max temp across a day.  I don't want to make a gazillion requests to them, and I want to slow it down, so I will add a sleep for 30 seconds when I make the requests.\n",
        "\n",
        "I also need to know what I will do with the JSON it returns - i'll collapse it into a table, and then take the maximum temperature for any given day."
      ]
    },
    {
      "cell_type": "code",
      "metadata": {
        "colab": {
          "base_uri": "https://localhost:8080/"
        },
        "id": "H-RPPkDxnwkW",
        "outputId": "05ae0ec1-72c6-4cb2-9d7c-a54beb991994"
      },
      "source": [
        "pd.DataFrame(b.json()).max()"
      ],
      "execution_count": 7,
      "outputs": [
        {
          "output_type": "execute_result",
          "data": {
            "text/plain": [
              "id                                             373220\n",
              "weather_state_name                            Showers\n",
              "weather_state_abbr                                  s\n",
              "wind_direction_compass                            WSW\n",
              "created                   2013-04-27T22:52:57.403100Z\n",
              "applicable_date                            2013-04-27\n",
              "min_temp                                         5.21\n",
              "max_temp                                         11.6\n",
              "the_temp                                        12.76\n",
              "wind_speed                                         12\n",
              "wind_direction                                    358\n",
              "air_pressure                                     1017\n",
              "humidity                                           76\n",
              "visibility                                    18.9655\n",
              "predictability                                     75\n",
              "dtype: object"
            ]
          },
          "metadata": {
            "tags": []
          },
          "execution_count": 7
        }
      ]
    },
    {
      "cell_type": "code",
      "metadata": {
        "colab": {
          "base_uri": "https://localhost:8080/"
        },
        "id": "XGKD7nUxn3oY",
        "outputId": "73349e87-8a9c-455e-a655-03a5b8d971c0"
      },
      "source": [
        "pd.to_datetime(pd.DataFrame(b.json()).max()['created']).date()"
      ],
      "execution_count": 8,
      "outputs": [
        {
          "output_type": "execute_result",
          "data": {
            "text/plain": [
              "datetime.date(2013, 4, 27)"
            ]
          },
          "metadata": {
            "tags": []
          },
          "execution_count": 8
        }
      ]
    },
    {
      "cell_type": "code",
      "metadata": {
        "colab": {
          "base_uri": "https://localhost:8080/"
        },
        "id": "nWQ6rpZI1-vK",
        "outputId": "5eaafc25-bb49-4c07-9fea-9a9d6c91d43c"
      },
      "source": [
        "pd.DataFrame(b.json()).max()['max_temp']"
      ],
      "execution_count": 9,
      "outputs": [
        {
          "output_type": "execute_result",
          "data": {
            "text/plain": [
              "11.6"
            ]
          },
          "metadata": {
            "tags": []
          },
          "execution_count": 9
        }
      ]
    },
    {
      "cell_type": "markdown",
      "metadata": {
        "id": "tfXGVr_z3n_a"
      },
      "source": [
        "This should work!  I'll now find the IDs of 5 cities I will use to predict Chicago's weather:\n",
        "\n",
        "Milwaukee\\\n",
        "Detroit\\\n",
        "Toronto\\\n",
        "St Louis\\\n",
        "Omaha, NE\n",
        "\n",
        "\n",
        "I'll use this site to look it up: https://www.findmecity.com/\n",
        "\n",
        "Milwaukee: 2451822\\\n",
        "Detroit: 2391585 \\\n",
        "Toronto: 4118\\\n",
        "St. Louis: 2486982\\\n",
        "Omaha, NE: 2465512\n"
      ]
    },
    {
      "cell_type": "code",
      "metadata": {
        "colab": {
          "base_uri": "https://localhost:8080/"
        },
        "id": "9pVej1aQ2i6K",
        "outputId": "9b1d6649-62f5-4bee-91f3-a8669ba3e009"
      },
      "source": [
        "#dictionary of cities\n",
        "cities = {'Milwaukee':'2451822', 'Detroit':'2391585', 'Toronto':'4118', 'St. Louis':'2486982', 'Omaha':'2465512', 'Chicago':'2379574'}\n",
        "\n",
        "#empty list to enter these into:\n",
        "values = []\n",
        "\n",
        "#loop through cities\n",
        "for k, v in cities.items():\n",
        "  #just doing one at a time:\n",
        "  if k != 'Chicago':\n",
        "    continue\n",
        "  #loop through 3 months\n",
        "  for mth in ['3', '4', '5']:\n",
        "    #just do days through 30, it's not time series, I don't care\n",
        "    for day in range(1, 31):\n",
        "      #what to request\n",
        "      strng = 'https://www.metaweather.com/api/location/' + v +'/2021/' + mth + '/' +str(day) + '/'\n",
        "      if day == 1:\n",
        "        print(strng)\n",
        "      reqst = requests.get(strng)\n",
        "      #get the pieces\n",
        "      date = pd.to_datetime(pd.DataFrame(reqst.json()).max()['created']).date()\n",
        "      maxtemp = pd.DataFrame(reqst.json()).max()['max_temp']\n",
        "      values.append([k, date, maxtemp])\n",
        "      time.sleep(45)\n",
        "\n",
        "\n",
        "\n"
      ],
      "execution_count": 11,
      "outputs": [
        {
          "output_type": "stream",
          "text": [
            "https://www.metaweather.com/api/location/2379574/2021/3/1/\n",
            "https://www.metaweather.com/api/location/2379574/2021/4/1/\n",
            "https://www.metaweather.com/api/location/2379574/2021/5/1/\n"
          ],
          "name": "stdout"
        }
      ]
    },
    {
      "cell_type": "code",
      "metadata": {
        "id": "3V40g9R4rpHL"
      },
      "source": [
        "import pickle\n",
        "\n",
        "#pickle.dump(values, open('.pkl', 'wb'))"
      ],
      "execution_count": 12,
      "outputs": []
    },
    {
      "cell_type": "code",
      "metadata": {
        "id": "BpFuwIRNwWJR"
      },
      "source": [
        "pd.DataFrame(values).to_csv('Chicago.csv')"
      ],
      "execution_count": 13,
      "outputs": []
    },
    {
      "cell_type": "code",
      "metadata": {
        "id": "5viSSBuk8ySS",
        "colab": {
          "base_uri": "https://localhost:8080/"
        },
        "outputId": "ecaede43-6def-4f5a-f5d3-3e06a0254c96"
      },
      "source": [
        "!ls"
      ],
      "execution_count": 14,
      "outputs": [
        {
          "output_type": "stream",
          "text": [
            "Chicago.csv  gdrive  sample_data\n"
          ],
          "name": "stdout"
        }
      ]
    },
    {
      "cell_type": "code",
      "metadata": {
        "id": "UPk1oOn1214M"
      },
      "source": [
        "!cp Chicago.csv gdrive/MyDrive"
      ],
      "execution_count": 15,
      "outputs": []
    },
    {
      "cell_type": "code",
      "metadata": {
        "id": "eYL_Lcpo27Fq"
      },
      "source": [
        ""
      ],
      "execution_count": null,
      "outputs": []
    },
    {
      "cell_type": "markdown",
      "metadata": {
        "id": "U61P-oYJKuql"
      },
      "source": [
        "Now that this is pulled in, I can begin doing a basic model.  Given that this is mostly for the purpose of tracking, I am fine with just making and SVM and doing minimal hyperparameter optimization.\n",
        "\n",
        "To do this, I will\n",
        "- load the files\n",
        "- pivot them according to city\n",
        "- drop date column (I am ignoring time series aspect here)\n",
        "- run a quick grid search"
      ]
    },
    {
      "cell_type": "code",
      "metadata": {
        "colab": {
          "base_uri": "https://localhost:8080/"
        },
        "id": "a4zJiN_LKtrQ",
        "outputId": "eb5c94d4-8100-4a9f-fa89-48b20002f1e8"
      },
      "source": [
        "!ls gdrive/MyDrive/ModelMonitoringBlog/"
      ],
      "execution_count": 9,
      "outputs": [
        {
          "output_type": "stream",
          "text": [
            " Chicago.csv\n",
            " Detroit.csv\n",
            "'First take on Evidently, and potential Datasets, MF 6.18.21.gdoc'\n",
            " Milwaukee.csv\n",
            "'Model Code'\n",
            "'Notes, 6.23.2021.gdoc'\n",
            " Omaha.csv\n",
            " St_Louis.csv\n",
            "'Table of Contents.gdoc'\n",
            " Toronto.csv\n"
          ],
          "name": "stdout"
        }
      ]
    },
    {
      "cell_type": "code",
      "metadata": {
        "colab": {
          "base_uri": "https://localhost:8080/"
        },
        "id": "UgMljxxqLRVw",
        "outputId": "4e403867-9935-46b7-b977-286cefe67e86"
      },
      "source": [
        "#re creating the dictionary above \n",
        "cities = {'Milwaukee':'2451822', 'Detroit':'2391585', 'Toronto':'4118', 'St. Louis':'2486982', 'Omaha':'2465512', 'Chicago':'2379574'}\n",
        "\n",
        "df = pd.DataFrame()\n",
        "\n",
        "for i in cities.keys():\n",
        "  if i == 'St. Louis':\n",
        "    i = 'St_Louis'\n",
        "  pth = \"gdrive/MyDrive/ModelMonitoringBlog/\" + i + \".csv\"\n",
        "  print(pth)\n",
        "  to_append = pd.read_csv(pth)\n",
        "  print(to_append.head())\n",
        "  if df.empty:\n",
        "    df = to_append\n",
        "    print(df.empty)\n",
        "  else:\n",
        "    df = pd.concat([df, to_append], ignore_index=True)\n",
        "  \n"
      ],
      "execution_count": 33,
      "outputs": [
        {
          "output_type": "stream",
          "text": [
            "gdrive/MyDrive/ModelMonitoringBlog/Milwaukee.csv\n",
            "   Unnamed: 0          0           1      2\n",
            "0           0  Milwaukee  2021-03-02  3.505\n",
            "1           1  Milwaukee  2021-03-03  7.490\n",
            "2           2  Milwaukee  2021-03-04  9.355\n",
            "3           3  Milwaukee  2021-03-05  9.935\n",
            "4           4  Milwaukee  2021-03-06  9.345\n",
            "False\n",
            "gdrive/MyDrive/ModelMonitoringBlog/Detroit.csv\n",
            "   Unnamed: 0        0           1       2\n",
            "0           0  Detroit  2021-03-02   8.360\n",
            "1           1  Detroit  2021-03-03   6.820\n",
            "2           2  Detroit  2021-03-04  12.215\n",
            "3           3  Detroit  2021-03-05  11.255\n",
            "4           4  Detroit  2021-03-06  10.325\n",
            "gdrive/MyDrive/ModelMonitoringBlog/Toronto.csv\n",
            "   Unnamed: 0        0           1      2\n",
            "0           0  Toronto  2021-03-02  6.035\n",
            "1           1  Toronto  2021-03-03  3.360\n",
            "2           2  Toronto  2021-03-04  7.225\n",
            "3           3  Toronto  2021-03-05  7.525\n",
            "4           4  Toronto  2021-03-06  7.010\n",
            "gdrive/MyDrive/ModelMonitoringBlog/St_Louis.csv\n",
            "   Unnamed: 0          0           1       2\n",
            "0           0  St. Louis  2021-03-02  15.105\n",
            "1           1  St. Louis  2021-03-03  15.480\n",
            "2           2  St. Louis  2021-03-04  20.425\n",
            "3           3  St. Louis  2021-03-05  18.550\n",
            "4           4  St. Louis  2021-03-06  19.070\n",
            "gdrive/MyDrive/ModelMonitoringBlog/Omaha.csv\n",
            "   Unnamed: 0      0           1       2\n",
            "0           0  Omaha  2021-03-02   7.590\n",
            "1           1  Omaha  2021-03-03  14.695\n",
            "2           2  Omaha  2021-03-04  17.600\n",
            "3           3  Omaha  2021-03-05  17.770\n",
            "4           4  Omaha  2021-03-06  17.010\n",
            "gdrive/MyDrive/ModelMonitoringBlog/Chicago.csv\n",
            "   Unnamed: 0        0           1       2\n",
            "0           0  Chicago  2021-03-02   6.060\n",
            "1           1  Chicago  2021-03-03   6.100\n",
            "2           2  Chicago  2021-03-04  10.150\n",
            "3           3  Chicago  2021-03-05   9.785\n",
            "4           4  Chicago  2021-03-06   8.965\n"
          ],
          "name": "stdout"
        }
      ]
    },
    {
      "cell_type": "code",
      "metadata": {
        "colab": {
          "base_uri": "https://localhost:8080/",
          "height": 417
        },
        "id": "7pHVykdNM23B",
        "outputId": "9b44520a-907c-45b6-9c57-af14c2c9a6ed"
      },
      "source": [
        "df"
      ],
      "execution_count": 34,
      "outputs": [
        {
          "output_type": "execute_result",
          "data": {
            "text/html": [
              "<div>\n",
              "<style scoped>\n",
              "    .dataframe tbody tr th:only-of-type {\n",
              "        vertical-align: middle;\n",
              "    }\n",
              "\n",
              "    .dataframe tbody tr th {\n",
              "        vertical-align: top;\n",
              "    }\n",
              "\n",
              "    .dataframe thead th {\n",
              "        text-align: right;\n",
              "    }\n",
              "</style>\n",
              "<table border=\"1\" class=\"dataframe\">\n",
              "  <thead>\n",
              "    <tr style=\"text-align: right;\">\n",
              "      <th></th>\n",
              "      <th>Unnamed: 0</th>\n",
              "      <th>0</th>\n",
              "      <th>1</th>\n",
              "      <th>2</th>\n",
              "    </tr>\n",
              "  </thead>\n",
              "  <tbody>\n",
              "    <tr>\n",
              "      <th>0</th>\n",
              "      <td>0</td>\n",
              "      <td>Milwaukee</td>\n",
              "      <td>2021-03-02</td>\n",
              "      <td>3.505</td>\n",
              "    </tr>\n",
              "    <tr>\n",
              "      <th>1</th>\n",
              "      <td>1</td>\n",
              "      <td>Milwaukee</td>\n",
              "      <td>2021-03-03</td>\n",
              "      <td>7.490</td>\n",
              "    </tr>\n",
              "    <tr>\n",
              "      <th>2</th>\n",
              "      <td>2</td>\n",
              "      <td>Milwaukee</td>\n",
              "      <td>2021-03-04</td>\n",
              "      <td>9.355</td>\n",
              "    </tr>\n",
              "    <tr>\n",
              "      <th>3</th>\n",
              "      <td>3</td>\n",
              "      <td>Milwaukee</td>\n",
              "      <td>2021-03-05</td>\n",
              "      <td>9.935</td>\n",
              "    </tr>\n",
              "    <tr>\n",
              "      <th>4</th>\n",
              "      <td>4</td>\n",
              "      <td>Milwaukee</td>\n",
              "      <td>2021-03-06</td>\n",
              "      <td>9.345</td>\n",
              "    </tr>\n",
              "    <tr>\n",
              "      <th>...</th>\n",
              "      <td>...</td>\n",
              "      <td>...</td>\n",
              "      <td>...</td>\n",
              "      <td>...</td>\n",
              "    </tr>\n",
              "    <tr>\n",
              "      <th>535</th>\n",
              "      <td>85</td>\n",
              "      <td>Chicago</td>\n",
              "      <td>2021-05-27</td>\n",
              "      <td>28.900</td>\n",
              "    </tr>\n",
              "    <tr>\n",
              "      <th>536</th>\n",
              "      <td>86</td>\n",
              "      <td>Chicago</td>\n",
              "      <td>2021-05-28</td>\n",
              "      <td>23.165</td>\n",
              "    </tr>\n",
              "    <tr>\n",
              "      <th>537</th>\n",
              "      <td>87</td>\n",
              "      <td>Chicago</td>\n",
              "      <td>2021-05-29</td>\n",
              "      <td>23.900</td>\n",
              "    </tr>\n",
              "    <tr>\n",
              "      <th>538</th>\n",
              "      <td>88</td>\n",
              "      <td>Chicago</td>\n",
              "      <td>2021-05-30</td>\n",
              "      <td>28.300</td>\n",
              "    </tr>\n",
              "    <tr>\n",
              "      <th>539</th>\n",
              "      <td>89</td>\n",
              "      <td>Chicago</td>\n",
              "      <td>2021-05-31</td>\n",
              "      <td>25.080</td>\n",
              "    </tr>\n",
              "  </tbody>\n",
              "</table>\n",
              "<p>540 rows × 4 columns</p>\n",
              "</div>"
            ],
            "text/plain": [
              "     Unnamed: 0          0           1       2\n",
              "0             0  Milwaukee  2021-03-02   3.505\n",
              "1             1  Milwaukee  2021-03-03   7.490\n",
              "2             2  Milwaukee  2021-03-04   9.355\n",
              "3             3  Milwaukee  2021-03-05   9.935\n",
              "4             4  Milwaukee  2021-03-06   9.345\n",
              "..          ...        ...         ...     ...\n",
              "535          85    Chicago  2021-05-27  28.900\n",
              "536          86    Chicago  2021-05-28  23.165\n",
              "537          87    Chicago  2021-05-29  23.900\n",
              "538          88    Chicago  2021-05-30  28.300\n",
              "539          89    Chicago  2021-05-31  25.080\n",
              "\n",
              "[540 rows x 4 columns]"
            ]
          },
          "metadata": {
            "tags": []
          },
          "execution_count": 34
        }
      ]
    },
    {
      "cell_type": "code",
      "metadata": {
        "id": "ZUeQ_M9pNnxl"
      },
      "source": [
        "#Now, to rename the columns\n",
        "df.columns = ['drp', 'city', 'date', 'maxtemp']\n",
        "df.drop('drp', axis=1, inplace=True)"
      ],
      "execution_count": 35,
      "outputs": []
    },
    {
      "cell_type": "code",
      "metadata": {
        "id": "cgyfQ79QOWnL"
      },
      "source": [
        "df = df.pivot(index='date', columns='city', values='maxtemp')"
      ],
      "execution_count": 38,
      "outputs": []
    },
    {
      "cell_type": "code",
      "metadata": {
        "id": "g59ZMFx7Os_G"
      },
      "source": [
        ""
      ],
      "execution_count": null,
      "outputs": []
    }
  ]
}